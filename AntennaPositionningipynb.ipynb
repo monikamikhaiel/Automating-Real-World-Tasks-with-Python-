{
  "nbformat": 4,
  "nbformat_minor": 0,
  "metadata": {
    "colab": {
      "name": "AntennaPositionningipynb",
      "provenance": [],
      "collapsed_sections": [],
      "authorship_tag": "ABX9TyNd9pM/7F2C/b9Gmox7LCbJ",
      "include_colab_link": true
    },
    "kernelspec": {
      "name": "python3",
      "display_name": "Python 3"
    },
    "language_info": {
      "name": "python"
    }
  },
  "cells": [
    {
      "cell_type": "markdown",
      "metadata": {
        "id": "view-in-github",
        "colab_type": "text"
      },
      "source": [
        "<a href=\"https://colab.research.google.com/github/monikamikhaiel/Automating-Real-World-Tasks-with-Python-/blob/main/AntennaPositionningipynb.ipynb\" target=\"_parent\"><img src=\"https://colab.research.google.com/assets/colab-badge.svg\" alt=\"Open In Colab\"/></a>"
      ]
    },
    {
      "cell_type": "code",
      "metadata": {
        "id": "gP53XJtFISeC"
      },
      "source": [
        "import numpy as np  # for array stuff and random\n",
        "import matplotlib.pyplot as plt  # for graphing our mean rewards over time\n",
        "from matplotlib import style  # to make pretty charts because it matters.\n",
        "import time  # using this to keep track of our saved Q-Tables.\n",
        "\n",
        "style.use(\"ggplot\")  # setting our style!"
      ],
      "execution_count": 1,
      "outputs": []
    },
    {
      "cell_type": "code",
      "metadata": {
        "id": "9nDFjr7CKd3y"
      },
      "source": [
        "# area\n",
        "\n",
        "SIZE_W = 5\n",
        "SIZE_H = 5\n"
      ],
      "execution_count": 2,
      "outputs": []
    },
    {
      "cell_type": "code",
      "metadata": {
        "id": "Ct1MEcAwKhYq"
      },
      "source": [
        "HM_EPISODES = 5\n",
        "epsilon = 0.9  # randomness\n",
        "EPS_DECAY = 0.9999  # Every episode will be epsilon*EPS_DECAY\n",
        "SHOW_EVERY = 100  # how often to play through env visually.\n",
        "\n",
        "start_q_table = None  # if we have a pickled Q table, we'll put the filename of it here.\n",
        "\n",
        "LEARNING_RATE = 0.1\n",
        "DISCOUNT = 0.95\n",
        "\n",
        "ANTENNA_N = 1  # player key in dict\n",
        "\n",
        "# the dict! Using just for colors\n",
        "d = {1: (255, 175, 0) }  # Antenna color blue\n",
        "#SNR RANGES\n",
        "snr_range={\"highSNR_max\":-50,\"highSNR_min\":-80,\n",
        "           \"mediumSNR_max\":-90,\"mediumSNR_min\":-100,\n",
        "          \"deadzone\":-120}"
      ],
      "execution_count": 3,
      "outputs": []
    },
    {
      "cell_type": "code",
      "metadata": {
        "id": "hDLiiMUeKqUw"
      },
      "source": [
        "#antenna\n",
        "class antenna:\n",
        "    def __init__(self):\n",
        "        self.x = np.random.randint(0, SIZE_W)\n",
        "        self.y = np.random.randint(0, SIZE_H)\n",
        "    def __str__(self):\n",
        "        return f\"{self.x}, {self.y}\"\n",
        "    def __sub__(self, other):\n",
        "        return (self.x-other.x, self.y-other.y)\n",
        "    def action(self, choice):\n",
        "        '''\n",
        "        Gives us 4 total movement options. (0,1,2,3)\n",
        "        '''\n",
        "        if choice == 0:  #up\n",
        "            self.move(x=0, y=1)\n",
        "        elif choice == 1:  #down\n",
        "            self.move(x=0, y=-1)\n",
        "        elif choice == 2:  #left\n",
        "            self.move(x=-1, y=0)\n",
        "        elif choice == 3:    #right\n",
        "            self.move(x=1, y=0)\n",
        "\n",
        "    def move(self, x=False, y=False):\n",
        "        # If no value for x, move randomly\n",
        "        if not x:\n",
        "            self.x += np.random.randint(-1, 2)\n",
        "        else:\n",
        "            self.x += x\n",
        "\n",
        "        # If no value for y, move randomly\n",
        "        if not y:\n",
        "            self.y += np.random.randint(-1, 2)\n",
        "        else:\n",
        "            self.y += y\n",
        "\n",
        "\n",
        "        # If we are out of bounds, fix!\n",
        "        if self.x < 0:\n",
        "            self.x = 0\n",
        "        elif self.x > SIZE_W-1:\n",
        "            self.x = SIZE_W-1\n",
        "        if self.y < 0:\n",
        "            self.y = 0\n",
        "        elif self.y > SIZE_H-1:\n",
        "            self.y = SIZE_H-1\n",
        "\n"
      ],
      "execution_count": 4,
      "outputs": []
    },
    {
      "cell_type": "code",
      "metadata": {
        "colab": {
          "base_uri": "https://localhost:8080/"
        },
        "id": "6E9GEGIcKwQe",
        "outputId": "fd05e795-5a88-43cf-afce-d76fca32408a"
      },
      "source": [
        "ant = antenna()\n",
        "print(ant)\n",
        "ant.action(0)\n",
        "print(ant)\n"
      ],
      "execution_count": 5,
      "outputs": [
        {
          "output_type": "stream",
          "text": [
            "2, 1\n",
            "1, 2\n"
          ],
          "name": "stdout"
        }
      ]
    },
    {
      "cell_type": "code",
      "metadata": {
        "colab": {
          "base_uri": "https://localhost:8080/"
        },
        "id": "VUA5sED5K4om",
        "outputId": "ff6eb3bf-dfd7-46e7-844d-b387ae3b989e"
      },
      "source": [
        "x = SIZE_W # Building X\n",
        "y = SIZE_H # Building Y\n",
        "z = 4 # actions\n",
        "\n",
        "q_table = np.zeros((x, y, z))\n",
        "# q_table *= 0\n",
        "print(q_table.shape)\n"
      ],
      "execution_count": 6,
      "outputs": [
        {
          "output_type": "stream",
          "text": [
            "(5, 5, 4)\n"
          ],
          "name": "stdout"
        }
      ]
    },
    {
      "cell_type": "code",
      "metadata": {
        "colab": {
          "base_uri": "https://localhost:8080/"
        },
        "id": "_j1N_gyoK9RU",
        "outputId": "a3e99fa3-e8ab-4a30-ca73-3ce21f767df9"
      },
      "source": [
        "def measureSNR (ant,SIZE_H,SIZE_W):\n",
        "  Gain_pannel=7 #in db\n",
        "  Gain=[]\n",
        "  attenuation= 13 #in db function of frequency and distance \n",
        "  freq= 2.4*(10^9) # the frequency og the signal\n",
        "  c= 3*(10^8) # the speed of light\n",
        "  #hte = input(\"please enter the height of the transmitter antenna ? \")\n",
        "  #hre = input(\"please enter the height of the receiver antenna ? \")\n",
        "  hte= 20\n",
        "  hre= 2\n",
        "  G_hte = 10*np.log(int(hte) /200) \n",
        "  G_hre = 10*np.log(int(hre)/ 3)\n",
        "  G_Area =27 # (Quasi Open Area)\n",
        "  for i in range(SIZE_H):\n",
        "    for j in range(SIZE_W):\n",
        "      difference = [ant.x-i,ant.y-j]\n",
        "      if difference == [0,0]:\n",
        "        continue\n",
        "      else:\n",
        "        distance=pow((pow(difference[0],2)+pow(difference[1],2)),0.5)\n",
        "        FPL      = 20*np.log(4*np.pi*distance*freq/c)\n",
        "        Path_Loss = FPL + attenuation - G_hte - G_hre - G_Area\n",
        "        Gain.append(Gain_pannel-Path_Loss)\n",
        "#      return np.random.random((1,(SIZE_W*SIZE_H)))\n",
        "    \n",
        "  return Gain\n",
        "\n",
        "print(measureSNR (ant,SIZE_H,SIZE_W))"
      ],
      "execution_count": 7,
      "outputs": [
        {
          "output_type": "stream",
          "text": [
            "[-76.441797210628, -67.27888989188646, -60.34741808628699, -67.27888989188646, -76.441797210628, -74.21036169748591, -60.34741808628699, -60.34741808628699, -74.21036169748591, -76.441797210628, -67.27888989188646, -60.34741808628699, -67.27888989188646, -76.441797210628, -81.14183350308535, -76.441797210628, -74.21036169748591, -76.441797210628, -81.14183350308535, -85.99691166090237, -83.37326901622747, -82.3196638596492, -83.37326901622747, -85.99691166090237]\n"
          ],
          "name": "stdout"
        }
      ]
    },
    {
      "cell_type": "code",
      "metadata": {
        "colab": {
          "base_uri": "https://localhost:8080/"
        },
        "id": "AK9PzO2BLC2M",
        "outputId": "91c6b379-40e6-4d05-ca77-a9d80a7d9e5c"
      },
      "source": [
        "def calSNRlow(SNR):\n",
        "    counter =0\n",
        "    for i in range(len(SNR)):\n",
        "        if int(SNR[i]) < snr_range[\"deadzone\"]:\n",
        "            counter+=1\n",
        "    percent=counter*100/len(SNR)\n",
        "    #return percent\n",
        "    return np.mean(SNR)\n",
        "\n",
        "calSNRlow(measureSNR (ant,SIZE_H,SIZE_W))"
      ],
      "execution_count": 8,
      "outputs": [
        {
          "output_type": "execute_result",
          "data": {
            "text/plain": [
              "-73.96378302037496"
            ]
          },
          "metadata": {
            "tags": []
          },
          "execution_count": 8
        }
      ]
    },
    {
      "cell_type": "code",
      "metadata": {
        "colab": {
          "base_uri": "https://localhost:8080/"
        },
        "id": "l2qcdm6uLIBt",
        "outputId": "b2dd4151-a324-44df-d6e8-94a1825ac659"
      },
      "source": [
        "episode_rewards = []\n",
        "reward=0\n",
        "for episode in range(HM_EPISODES):\n",
        "    ant = antenna()\n",
        "    if episode % SHOW_EVERY == 0:\n",
        "        print(f\"on #{episode}\")\n",
        "       # print(f\"{SHOW_EVERY} ep mean: {np.mean(episode_rewards[-SHOW_EVERY:])}\")\n",
        "        show = True\n",
        "    else:\n",
        "        show = False\n",
        "\n",
        "    episode_reward = 0\n",
        "    state=0\n",
        "    for i in range(200):\n",
        "        antennaPos = (ant) # Current Antenna X, Y Co-ord.\n",
        "\n",
        "        if np.random.random() > epsilon:\n",
        "            # GET THE ACTION\n",
        "#             if state <=25:\n",
        "#                 state=0\n",
        "#             else:\n",
        "#                 state+=1\n",
        "\n",
        "            action = np.argmax(q_table[ant.x][ant.y])\n",
        "        else:\n",
        "            action = np.random.randint(0, 3)\n",
        "        # Take the action!\n",
        "        ant.action(action)\n",
        "        ###\n",
        "        #calculate the SNR\n",
        "        snr= measureSNR(ant,SIZE_H,SIZE_W)\n",
        "        percent=calSNRlow(snr)\n",
        "        ##\n",
        "        reward=percent*-1\n",
        "          ###\n",
        "        #current_q = q_table[state][action]\n",
        "        newAntennaPos = (ant)\n",
        "        current_q = q_table[ant.x][ant.y][action] # Current State\n",
        "        max_future_q = np.max(q_table[ant.x][ant.y]) # Max State\n",
        "        new_q = (1 - LEARNING_RATE) * current_q + LEARNING_RATE * (reward + DISCOUNT * max_future_q)\n",
        "        q_table[ant.x][ant.y][action] = new_q\n",
        "\n",
        "\n",
        "        episode_reward += reward\n",
        "\n",
        "        #print(episode_reward)\n",
        "    episode_rewards.append(episode_reward)\n",
        "    epsilon *= EPS_DECAY"
      ],
      "execution_count": 9,
      "outputs": [
        {
          "output_type": "stream",
          "text": [
            "on #0\n"
          ],
          "name": "stdout"
        }
      ]
    },
    {
      "cell_type": "code",
      "metadata": {
        "colab": {
          "base_uri": "https://localhost:8080/",
          "height": 229
        },
        "id": "mfBldwJhLJyj",
        "outputId": "979a3949-839f-4a27-9024-b6b365ae5e61"
      },
      "source": [
        "if snr >snr_range[\"highSNR_min\"]:\n",
        "    reward+= highSNR_REWARD\n",
        "elif snr < snr_range[\"mediumSNR_max\"] and  snr > snr_range[\"mediumSNR_min\"]:\n",
        "    reward+= mediumSNR_PENALTY\n",
        "elif snr < snr_range[\"deadzone\"]:\n",
        "    reward-=lowSNR_PENALTY\n"
      ],
      "execution_count": 10,
      "outputs": [
        {
          "output_type": "error",
          "ename": "TypeError",
          "evalue": "ignored",
          "traceback": [
            "\u001b[0;31m---------------------------------------------------------------------------\u001b[0m",
            "\u001b[0;31mTypeError\u001b[0m                                 Traceback (most recent call last)",
            "\u001b[0;32m<ipython-input-10-173e14ed3804>\u001b[0m in \u001b[0;36m<module>\u001b[0;34m()\u001b[0m\n\u001b[0;32m----> 1\u001b[0;31m \u001b[0;32mif\u001b[0m \u001b[0msnr\u001b[0m \u001b[0;34m>\u001b[0m\u001b[0msnr_range\u001b[0m\u001b[0;34m[\u001b[0m\u001b[0;34m\"highSNR_min\"\u001b[0m\u001b[0;34m]\u001b[0m\u001b[0;34m:\u001b[0m\u001b[0;34m\u001b[0m\u001b[0;34m\u001b[0m\u001b[0m\n\u001b[0m\u001b[1;32m      2\u001b[0m     \u001b[0mreward\u001b[0m\u001b[0;34m+=\u001b[0m \u001b[0mhighSNR_REWARD\u001b[0m\u001b[0;34m\u001b[0m\u001b[0;34m\u001b[0m\u001b[0m\n\u001b[1;32m      3\u001b[0m \u001b[0;32melif\u001b[0m \u001b[0msnr\u001b[0m \u001b[0;34m<\u001b[0m \u001b[0msnr_range\u001b[0m\u001b[0;34m[\u001b[0m\u001b[0;34m\"mediumSNR_max\"\u001b[0m\u001b[0;34m]\u001b[0m \u001b[0;32mand\u001b[0m  \u001b[0msnr\u001b[0m \u001b[0;34m>\u001b[0m \u001b[0msnr_range\u001b[0m\u001b[0;34m[\u001b[0m\u001b[0;34m\"mediumSNR_min\"\u001b[0m\u001b[0;34m]\u001b[0m\u001b[0;34m:\u001b[0m\u001b[0;34m\u001b[0m\u001b[0;34m\u001b[0m\u001b[0m\n\u001b[1;32m      4\u001b[0m     \u001b[0mreward\u001b[0m\u001b[0;34m+=\u001b[0m \u001b[0mmediumSNR_PENALTY\u001b[0m\u001b[0;34m\u001b[0m\u001b[0;34m\u001b[0m\u001b[0m\n\u001b[1;32m      5\u001b[0m \u001b[0;32melif\u001b[0m \u001b[0msnr\u001b[0m \u001b[0;34m<\u001b[0m \u001b[0msnr_range\u001b[0m\u001b[0;34m[\u001b[0m\u001b[0;34m\"deadzone\"\u001b[0m\u001b[0;34m]\u001b[0m\u001b[0;34m:\u001b[0m\u001b[0;34m\u001b[0m\u001b[0;34m\u001b[0m\u001b[0m\n",
            "\u001b[0;31mTypeError\u001b[0m: '>' not supported between instances of 'list' and 'int'"
          ]
        }
      ]
    },
    {
      "cell_type": "code",
      "metadata": {
        "colab": {
          "base_uri": "https://localhost:8080/",
          "height": 265
        },
        "id": "F8yfmge4LdPR",
        "outputId": "c7fb9abd-bb02-4cdb-d25b-0fefa53d3fa4"
      },
      "source": [
        "plt.scatter(ant.x, ant.y)\n",
        "plt.show()"
      ],
      "execution_count": 11,
      "outputs": [
        {
          "output_type": "display_data",
          "data": {
            "image/png": "[encoded data removed]",
            "text/plain": [
              "<Figure size 432x288 with 1 Axes>"
            ]
          },
          "metadata": {
            "tags": [],
            "needs_background": "light"
          }
        }
      ]
    }
  ]
}