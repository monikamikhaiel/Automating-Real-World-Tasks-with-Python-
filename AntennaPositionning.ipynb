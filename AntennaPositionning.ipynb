{
  "nbformat": 4,
  "nbformat_minor": 0,
  "metadata": {
    "colab": {
      "name": "AntennaPositionning",
      "provenance": [],
      "collapsed_sections": [],
      "include_colab_link": true
    },
    "kernelspec": {
      "display_name": "Python 3",
      "name": "python3"
    },
    "language_info": {
      "name": "python"
    }
  },
  "cells": [
    {
      "cell_type": "markdown",
      "metadata": {
        "id": "view-in-github",
        "colab_type": "text"
      },
      "source": [
        "<a href=\"https://colab.research.google.com/github/monikamikhaiel/Automating-Real-World-Tasks-with-Python-/blob/main/AntennaPositionning.ipynb\" target=\"_parent\"><img src=\"https://colab.research.google.com/assets/colab-badge.svg\" alt=\"Open In Colab\"/></a>"
      ]
    },
    {
      "cell_type": "code",
      "metadata": {
        "id": "gP53XJtFISeC"
      },
      "source": [
        "import numpy as np  # for array stuff and random\n",
        "import matplotlib.pyplot as plt  # for graphing our mean rewards over time\n",
        "from matplotlib import style  # to make pretty charts because it matters.\n",
        "import time  # using this to keep track of our saved Q-Tables.\n",
        "import cv2\n",
        "\n",
        "style.use(\"ggplot\")  # setting our style!"
      ],
      "execution_count": 1,
      "outputs": []
    },
    {
      "cell_type": "code",
      "metadata": {
        "colab": {
          "base_uri": "https://localhost:8080/"
        },
        "id": "9nDFjr7CKd3y",
        "outputId": "4118bb82-7503-4218-d2ac-9268da389911"
      },
      "source": [
        "# area\n",
        "#im = cv2.imread('/content/room.jpg')\n",
        "#width = int(im.shape[1] * 50 / 100)\n",
        "#height = int(im.shape[0] * 50 / 100)\n",
        "\n",
        "# dsize\n",
        "#dsize = (width, height)\n",
        "\n",
        "# resize image\n",
        "#output = cv2.resize(im, dsize)\n",
        "\n",
        "#print(im.shape)\n",
        "SIZE_W = 5\n",
        "SIZE_H = 5\n",
        "print(SIZE_H,SIZE_W)\n",
        "#cv2.waitKey(0)\n",
        "#cv2.destroyAllWindows()"
      ],
      "execution_count": 2,
      "outputs": [
        {
          "output_type": "stream",
          "text": [
            "5 5\n"
          ],
          "name": "stdout"
        }
      ]
    },
    {
      "cell_type": "code",
      "metadata": {
        "id": "Ct1MEcAwKhYq"
      },
      "source": [
        "HM_EPISODES = 1500\n",
        "epsilon = 0.5  # randomness\n",
        "EPS_DECAY = 0.9999  # Every episode will be epsilon*EPS_DECAY\n",
        "SHOW_EVERY = 100  # how often to play through env visually.\n",
        "\n",
        "start_q_table = None  # if we have a pickled Q table, we'll put the filename of it here.\n",
        "\n",
        "LEARNING_RATE = 0.1\n",
        "DISCOUNT = 0.95\n",
        "\n",
        "ANTENNA_N = 1  # player key in dict\n",
        "\n",
        "# the dict! Using just for colors\n",
        "d = {1: (255, 175, 0) }  # Antenna color blue\n",
        "#SNR RANGES\n",
        "snr_range={\"highSNR_max\":-50,\"highSNR_min\":-80,\n",
        "           \"mediumSNR_max\":-90,\"mediumSNR_min\":-100,\n",
        "          \"deadzone\":-120}\n"
      ],
      "execution_count": 3,
      "outputs": []
    },
    {
      "cell_type": "code",
      "metadata": {
        "id": "hDLiiMUeKqUw"
      },
      "source": [
        "#antenna\n",
        "class antenna:\n",
        "    def __init__(self):\n",
        "        self.x = np.random.randint(0, SIZE_W)\n",
        "        self.y = np.random.randint(0, SIZE_H)\n",
        "    def __str__(self):\n",
        "        return f\"{self.x}, {self.y}\"\n",
        "    def __sub__(self, other):\n",
        "        return (self.x-other.x, self.y-other.y)\n",
        "    def action(self, choice):\n",
        "        '''\n",
        "        Gives us 4 total movement options. (0,1,2,3)\n",
        "        '''\n",
        "        if choice == 0:  #up\n",
        "            #self.move(x=0, y=1)\n",
        "            self.x=self.x\n",
        "            self.y+=1\n",
        "            self.move()\n",
        "\n",
        "        elif choice == 1:  #down\n",
        "            #self.move(x=0, y=-1)\n",
        "            self.x=self.x\n",
        "            self.y-=1\n",
        "            self.move()\n",
        "\n",
        "        elif choice == 2:  #left\n",
        "           # self.move(x=-1, y=0)\n",
        "            self.x-=1\n",
        "            self.y=self.y\n",
        "            self.move()\n",
        "\n",
        "        elif choice == 3:    #right\n",
        "            # self.move(x=1, y=0)\n",
        "            self.x+=1\n",
        "            self.y=self.y\n",
        "            self.move()\n",
        "\n",
        "#    def move(self, x=False, y=False):\n",
        "    def move(self):\n",
        "        # If no value for x, move randomly\n",
        "      #  if not x:\n",
        "      #      self.x += np.random.randint(-1, 2)\n",
        "       # elif x==0:\n",
        "      #      self.x=self.x\n",
        "      #  else:\n",
        "       #     self.x += x\n",
        "\n",
        "        # If no value for y, move randomly\n",
        "       # if not y:\n",
        "        #    self.y += np.random.randint(-1, 2)\n",
        "       # elif y==0:\n",
        "        #    self.y=self.y\n",
        "       # else:\n",
        "        #    self.y += y\n",
        "      # If we are out of bounds, fix!\n",
        "        if self.x < 0:\n",
        "            self.x = 0\n",
        "        elif self.x > SIZE_W-1:\n",
        "            self.x = SIZE_W-1\n",
        "        if self.y < 0:\n",
        "            self.y = 0\n",
        "        elif self.y > SIZE_H-1:\n",
        "            self.y = SIZE_H-1\n",
        "\n"
      ],
      "execution_count": 4,
      "outputs": []
    },
    {
      "cell_type": "code",
      "metadata": {
        "colab": {
          "base_uri": "https://localhost:8080/"
        },
        "id": "6E9GEGIcKwQe",
        "outputId": "72f74bc3-3c12-48f9-ffdf-56abd5437279"
      },
      "source": [
        "ant = antenna()\n",
        "print(ant)\n",
        "ant.action(0) # up\n",
        "print(ant)\n",
        "ant.action(1) #down \n",
        "print(ant)\n",
        "ant.action(2) #left\n",
        "print(ant)\n",
        "ant.action(3) #right \n",
        "print(ant)\n"
      ],
      "execution_count": 5,
      "outputs": [
        {
          "output_type": "stream",
          "text": [
            "3, 3\n",
            "3, 4\n",
            "3, 3\n",
            "2, 3\n",
            "3, 3\n"
          ],
          "name": "stdout"
        }
      ]
    },
    {
      "cell_type": "code",
      "metadata": {
        "colab": {
          "base_uri": "https://localhost:8080/"
        },
        "id": "VUA5sED5K4om",
        "outputId": "800b0a27-476d-4024-8154-0e73985838ad"
      },
      "source": [
        "x = SIZE_W # Building X\n",
        "y = SIZE_H # Building Y\n",
        "z = 4 # actions\n",
        "\n",
        "q_table = np.zeros((x, y, z))\n",
        "# q_table *= 0\n",
        "print(q_table.shape)\n"
      ],
      "execution_count": 6,
      "outputs": [
        {
          "output_type": "stream",
          "text": [
            "(5, 5, 4)\n"
          ],
          "name": "stdout"
        }
      ]
    },
    {
      "cell_type": "code",
      "metadata": {
        "id": "UjlfgMCzAzex"
      },
      "source": [
        "#okomora model \n",
        "def okomora(ant,SIZE_H,SIZE_W):\n",
        "  PathLoss=[]\n",
        "  attenuation= 13 #in db function of frequency and distance \n",
        "  freq= 2.4*(10^9) # the frequency og the signal\n",
        "  c= 3*(10^8) # the speed of light\n",
        "  #hte = input(\"please enter the height of the transmitter antenna ? \")\n",
        "  #hre = input(\"please enter the height of the receiver antenna ? \")\n",
        "  hte= 20\n",
        "  hre= 2\n",
        "  G_hte = 10*np.log(int(hte) /200) \n",
        "  G_hre = 10*np.log(int(hre)/ 3)\n",
        "  G_Area =27 # (Quasi Open Area)\n",
        "  for i in range(SIZE_H):\n",
        "    for j in range(SIZE_W):\n",
        "      difference = [ant.x-i,ant.y-j]\n",
        "      if difference == [0,0]:\n",
        "        continue\n",
        "      else:\n",
        "        ## calculate the pathloss\n",
        "        distance=pow((pow(difference[0],2)+pow(difference[1],2)),0.5)\n",
        "        FPL      = 20*np.log(4*np.pi*distance*freq/c)\n",
        "        Path_Loss = FPL + attenuation - G_hte - G_hre - G_Area\n",
        "        PathLoss.append(Path_Loss)\n",
        "  return PathLoss  \n",
        "#len(okomora(ant,SIZE_H,SIZE_W))"
      ],
      "execution_count": 7,
      "outputs": []
    },
    {
      "cell_type": "code",
      "metadata": {
        "id": "ZhiHQdPgBPKP"
      },
      "source": [
        "def AnglesInDegrees(ant,SIZE_H,SIZE_W):\n",
        "  theta=[]\n",
        "  for i in range(SIZE_H):\n",
        "    for j in range(SIZE_W):\n",
        "      difference = [ant.x-i,ant.y-j]\n",
        "      if difference==[0,0]: # the same position as the antenna \n",
        "        continue\n",
        "      if difference[0]==0:     # the angle itself is either 90 or 270 tan will be infinite \n",
        "          if difference[1]>0:\n",
        "            t=90\n",
        "            theta.append(90)\n",
        "          else:\n",
        "            t=270\n",
        "            theta.append(270)\n",
        "      else:\n",
        "          tantheta= difference[1]/difference[0]\n",
        "          t=np.degrees(np.arctan(tantheta))\n",
        "          if t <=0:\n",
        "            t+=360\n",
        "            theta.append(t)\n",
        "          else:\n",
        "            theta.append(t)\n",
        "  return theta\n",
        "#print(len(AnglesInDegrees(ant,SIZE_H,SIZE_W)))"
      ],
      "execution_count": 8,
      "outputs": []
    },
    {
      "cell_type": "code",
      "metadata": {
        "id": "Q-YCAFATC7SQ"
      },
      "source": [
        "def measureSNR(ant,SIZE_H,SIZE_W,type=\"omnidirectionnel\"):\n",
        "  Path_Loss=okomora(ant,SIZE_H,SIZE_W)\n",
        "  Gain=[]\n",
        "  if type == \"omnidirectionnel\" :\n",
        "    Gain_pannel=7 #in db\n",
        "    for i in range(len(Path_Loss)):\n",
        "      Gain.append(Gain_pannel-Path_Loss[i])\n",
        "  elif type== \"directionnel\":\n",
        "    thetas=AnglesInDegrees(ant,SIZE_H,SIZE_W)\n",
        "    gain=7 #db\n",
        "    for i in range(len(Path_Loss)):\n",
        "      Gain.append((gain*np.cos(thetas[i]))-Path_Loss[i])\n",
        "  else:\n",
        "    thetas=AnglesInDegrees(ant,SIZE_H,SIZE_W)\n",
        "    GainVsTheta={360:-20,30:-10,60:-5,90:15,120:0,150:-10,180:-20,210:-10,240:-8,270:-15,300:-8,330:-10} # values in db angle:gain\n",
        "    for i in range(len(thetas)):\n",
        "      t=thetas[i]\n",
        "      if t==0:\n",
        "       value = GainVsTheta[360]\n",
        "      elif t<=30:\n",
        "        value = GainVsTheta[30]\n",
        "      elif 30<t<=60:\n",
        "        value = GainVsTheta[60]\n",
        "      elif 60<t<=90:\n",
        "        value = GainVsTheta[90]\n",
        "      elif 90<t<=120:\n",
        "        value = GainVsTheta[120]\n",
        "      elif 120<t<=150:\n",
        "        value = GainVsTheta[150]\n",
        "      elif 150<t<=180:\n",
        "        value = GainVsTheta[180]\n",
        "      elif 180<t<=210:\n",
        "        value = GainVsTheta[210]\n",
        "      elif 210<t<=240:\n",
        "        value = GainVsTheta[240]\n",
        "      elif 240<t<=270:\n",
        "        value = GainVsTheta[270]\n",
        "      elif 270<t<=300:\n",
        "        value = GainVsTheta[300]\n",
        "      elif 300<t<=330:\n",
        "        value = GainVsTheta[330]\n",
        "      elif 330<t<=360:\n",
        "        value = GainVsTheta[360]\n",
        "      Gain.append(value-Path_Loss[i])\n",
        "  Magnitude=[]\n",
        "  for g in Gain:\n",
        "    mag=pow(10,(g/10))\n",
        "    Magnitude.append(mag)\n",
        "  return Magnitude\n",
        "#measureSNR(ant,SIZE_H,SIZE_W,type=\"omnidirectionnel\")\n"
      ],
      "execution_count": 9,
      "outputs": []
    },
    {
      "cell_type": "code",
      "metadata": {
        "colab": {
          "base_uri": "https://localhost:8080/"
        },
        "id": "AK9PzO2BLC2M",
        "outputId": "6b562637-ecf8-4948-9a78-7cc823287674"
      },
      "source": [
        "def calSNRlow(SNR):\n",
        "    counter =0\n",
        "    for i in range(len(SNR)):\n",
        "        if int(SNR[i]) < snr_range[\"deadzone\"]:\n",
        "            counter+=1\n",
        "    percent=counter*100/len(SNR)\n",
        "    #return percent\n",
        "    return np.mean(SNR)\n",
        "\n",
        "calSNRlow(measureSNR (ant,SIZE_H,SIZE_W))"
      ],
      "execution_count": 10,
      "outputs": [
        {
          "output_type": "execute_result",
          "data": {
            "text/plain": [
              "1.938159082075519e-07"
            ]
          },
          "metadata": {
            "tags": []
          },
          "execution_count": 10
        }
      ]
    },
    {
      "cell_type": "code",
      "metadata": {
        "colab": {
          "base_uri": "https://localhost:8080/"
        },
        "id": "l2qcdm6uLIBt",
        "outputId": "a291119f-b78e-44f7-d09b-ba8885f7c7b6"
      },
      "source": [
        "\n",
        "episode_rewards = []\n",
        "reward=0\n",
        "for episode in range(HM_EPISODES):\n",
        "    ant = antenna()\n",
        "    if episode % SHOW_EVERY == 0:\n",
        "        print(f\"on #{episode}\")\n",
        "       # print(f\"{SHOW_EVERY} ep mean: {np.mean(episode_rewards[-SHOW_EVERY:])}\")\n",
        "        show = True\n",
        "    else:\n",
        "        show = False\n",
        "\n",
        "    episode_reward = 0\n",
        "    state=0\n",
        "    for i in range(200):\n",
        "        antennaPos = (ant) # Current Antenna X, Y Co-ord.\n",
        "\n",
        "        if np.random.random() > epsilon:\n",
        "            # GET THE ACTION\n",
        "#             if state <=25:\n",
        "#                 state=0\n",
        "#             else:\n",
        "#                 state+=1\n",
        "\n",
        "            action = np.argmax(q_table[ant.x][ant.y])\n",
        "        else:\n",
        "            action = np.random.randint(0, 4) #low is inclusive high is exclusive \n",
        "            #print(action)\n",
        "        # Take the action!\n",
        "        ant.action(action) # move the  antenna\n",
        "        ###\n",
        "        #calculate the SNR\n",
        "        snr=measureSNR(ant,SIZE_H,SIZE_W,type=\"directionnel\")\n",
        "        percent=calSNRlow(snr)\n",
        "        ##\n",
        "        reward=percent\n",
        "          ###\n",
        "        #current_q = q_table[state][action]\n",
        "        newAntennaPos = (ant)\n",
        "        current_q = q_table[ant.x][ant.y][action] # Current State\n",
        "        max_future_q = np.max(q_table[ant.x][ant.y]) # Max State\n",
        "        new_q = (1 - LEARNING_RATE) * current_q + LEARNING_RATE * (reward + DISCOUNT * max_future_q)\n",
        "        q_table[ant.x][ant.y][action] = new_q\n",
        "      \n",
        "\n",
        "        episode_reward += reward\n",
        "\n",
        "        #print(episode_reward)\n",
        "    episode_rewards.append(episode_reward)\n",
        "    epsilon *= EPS_DECAY"
      ],
      "execution_count": 12,
      "outputs": [
        {
          "output_type": "stream",
          "text": [
            "on #0\n",
            "on #100\n",
            "on #200\n",
            "on #300\n",
            "on #400\n",
            "on #500\n",
            "on #600\n",
            "on #700\n",
            "on #800\n",
            "on #900\n",
            "on #1000\n",
            "on #1100\n",
            "on #1200\n",
            "on #1300\n",
            "on #1400\n"
          ],
          "name": "stdout"
        }
      ]
    },
    {
      "cell_type": "code",
      "metadata": {
        "colab": {
          "base_uri": "https://localhost:8080/",
          "height": 286
        },
        "id": "TITlgL6G-CcO",
        "outputId": "51cf583b-a578-4f3a-dafe-9436febf54f6"
      },
      "source": [
        "xval=[]\n",
        "yval=[]\n",
        "max_value =np.max((q_table))\n",
        "print(max_value)\n",
        "for i in range(SIZE_H):\n",
        "  for j in range(SIZE_W):\n",
        "    for k in range(4):\n",
        "      if max_value  == (q_table[i][j][k]):\n",
        "        xval.append(i)\n",
        "        yval.append(j)\n",
        "      else :\n",
        "        continue\n",
        "\n",
        "plt.scatter(xval, yval, color= \"blue\", linewidths =2 ,marker =\"s\")\n",
        "plt.xlim(0, SIZE_H-1)\n",
        "plt.ylim(0, SIZE_W-1)\n",
        "plt.show()\n",
        "#print(q_table)\n",
        "#print(xval)\n"
      ],
      "execution_count": 13,
      "outputs": [
        {
          "output_type": "stream",
          "text": [
            "3.1132891442002656e-06\n"
          ],
          "name": "stdout"
        },
        {
          "output_type": "display_data",
          "data": {
            "image/png": "[encoded data removed]",
            "text/plain": [
              "<Figure size 432x288 with 1 Axes>"
            ]
          },
          "metadata": {
            "tags": [],
            "needs_background": "light"
          }
        }
      ]
    },
    {
      "cell_type": "code",
      "metadata": {
        "id": "F8yfmge4LdPR"
      },
      "source": [
        "#xval=[]\n",
        "#yval=[]\n",
        "#max_value =np.max(abs(q_table))\n",
        "#print(max_value)\n",
        "#for i in range(SIZE_H):\n",
        "#  for j in range(SIZE_W):\n",
        "#    for k in range(4):\n",
        "#      if max_value  == abs(q_table[i][j][k]):\n",
        " #       xval.append(i)\n",
        " #       yval.append(j)\n",
        "  #    else :\n",
        "   #     continue\n",
        "\n",
        "#plt.scatter(xval, yval, color= \"blue\", linewidths =2 ,marker =\"s\")\n",
        "#plt.xlim(0, 4)\n",
        "#plt.ylim(0, 4)\n",
        "#plt.show()\n",
        "#print(q_table)\n",
        "#print(xval)\n"
      ],
      "execution_count": null,
      "outputs": []
    },
    {
      "cell_type": "code",
      "metadata": {
        "id": "KAa1H60y_sNY"
      },
      "source": [
        "#looping on q_table \n",
        "#antenna Tracing qtable \n",
        "AntTest2=antenna()\n",
        "AntTest2.x=xval[0]\n",
        "AntTest2.y=yval[0]\n",
        "for i in range(10):\n",
        "  print(AntTest2)\n",
        "  actionx = np.argmax(q_table[AntTest2.x][AntTest2.y])\n",
        "  print(actionx)\n",
        "  AntTest2.action(actionx)\n",
        "  #plt.scatter(AntTest2.x,AntTest2.y, color= \"blue\", linewidths =2 ,marker =\"s\")\n",
        "  #plt.xlim(0, 4)\n",
        "  #plt.ylim(0, 4)\n",
        "  #plt.show()\n"
      ],
      "execution_count": null,
      "outputs": []
    },
    {
      "cell_type": "code",
      "metadata": {
        "colab": {
          "base_uri": "https://localhost:8080/"
        },
        "id": "ioNcIRd6AB4R",
        "outputId": "e8018d94-0894-4bc7-f126-29fba71d7b1b"
      },
      "source": [
        "#looping on the area \n",
        "AntTest=antenna()\n",
        "EveryWhere={}\n",
        "max=-200\n",
        "#Move antenna Every where \n",
        "for i in range(SIZE_H):\n",
        "  for j in range(SIZE_W):\n",
        "    AntTest.x =i\n",
        "    AntTest.y = j\n",
        "    AvgSnr=calSNRlow(measureSNR(AntTest,SIZE_H,SIZE_W,type=\"directionnel\"))\n",
        "    if AvgSnr>max:\n",
        "      max=AvgSnr\n",
        "    list_=[AntTest.x,AntTest.y,AvgSnr]\n",
        "    EveryWhere[AvgSnr]=[AntTest.x,AntTest.y]\n",
        "print(max,EveryWhere[max])\n",
        "print(EveryWhere)\n",
        "## x,y,meanSNR   "
      ],
      "execution_count": 14,
      "outputs": [
        {
          "output_type": "stream",
          "text": [
            "7.42403152964074e-08 [2, 2]\n",
            "{4.959583875574628e-08: [0, 0], 5.861926321047294e-08: [0, 1], 5.9009532187754104e-08: [0, 2], 5.679967825568434e-08: [0, 3], 1.5304082299168687e-08: [0, 4], 5.9434781563742284e-08: [1, 0], 7.202436641548189e-08: [1, 1], 7.296046853071668e-08: [3, 2], 7.045923908273441e-08: [1, 3], 2.4455495049366495e-08: [1, 4], 6.043280280854428e-08: [2, 0], 7.32327284801651e-08: [2, 1], 7.42403152964074e-08: [2, 2], 7.163030845253367e-08: [2, 3], 2.4993494876745695e-08: [2, 4], 5.989480298116507e-08: [3, 0], 7.206165911036585e-08: [3, 1], 7.042194638785048e-08: [3, 3], 2.3995473631943706e-08: [3, 4], 5.074339023096726e-08: [4, 0], 5.8402098283315766e-08: [4, 1], 5.900953218775411e-08: [4, 2], 5.701684318284152e-08: [4, 3], 1.4156530823947708e-08: [4, 4]}\n"
          ],
          "name": "stdout"
        }
      ]
    }
  ]
}