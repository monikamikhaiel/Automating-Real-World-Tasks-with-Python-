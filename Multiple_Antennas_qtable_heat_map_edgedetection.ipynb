{
  "nbformat": 4,
  "nbformat_minor": 0,
  "metadata": {
    "colab": {
      "name": "Multiple Antennas_qtable_heat map_edgedetection",
      "provenance": [],
      "collapsed_sections": [],
      "include_colab_link": true
    },
    "kernelspec": {
      "display_name": "Python 3",
      "name": "python3"
    },
    "language_info": {
      "name": "python"
    }
  },
  "cells": [
    {
      "cell_type": "markdown",
      "metadata": {
        "id": "view-in-github",
        "colab_type": "text"
      },
      "source": [
        "<a href=\"https://colab.research.google.com/github/monikamikhaiel/Automating-Real-World-Tasks-with-Python-/blob/main/Multiple_Antennas_qtable_heat_map_edgedetection.ipynb\" target=\"_parent\"><img src=\"https://colab.research.google.com/assets/colab-badge.svg\" alt=\"Open In Colab\"/></a>"
      ]
    },
    {
      "cell_type": "code",
      "metadata": {
        "id": "gP53XJtFISeC"
      },
      "source": [
        "import numpy as np  # for array stuff and random\n",
        "import matplotlib.pyplot as plt  # for graphing our mean rewards over time\n",
        "from matplotlib.pyplot import figure\n",
        "from matplotlib import style  # to make pretty charts because it matters.\n",
        "import time  # using this to keep track of our saved Q-Tables.\n",
        "style.use(\"ggplot\")  # setting our style!"
      ],
      "execution_count": 1,
      "outputs": []
    },
    {
      "cell_type": "code",
      "metadata": {
        "colab": {
          "base_uri": "https://localhost:8080/"
        },
        "id": "90wmfSbh5cwP",
        "outputId": "49e3245d-1e3d-4abd-aa4f-ec029029118f"
      },
      "source": [
        "import cv2\n",
        "src = cv2.imread('/content/master_bathroom_floor_plan_3.jpg', cv2.IMREAD_UNCHANGED)\n",
        "\n",
        "#percent by which the image is resized\n",
        "scale_percent = 200\n",
        "\n",
        "#calculate the 50 percent of original dimensions\n",
        "width = int(src.shape[1] * scale_percent / 100)\n",
        "height = int(src.shape[0] * scale_percent / 100)\n",
        "\n",
        "# dsize\n",
        "dsize = (width, height)\n",
        "\n",
        "# resize image\n",
        "output = cv2.resize(src, dsize)\n",
        "\n",
        "cv2.imwrite('/content/master_bathroom_floor_plan_3.jpg',output) \n",
        "#src = cv2.imread('/content/Inkedmaster_bathroom_floor_plan_7_.jpg', cv2.IMREAD_UNCHANGED)\n",
        "#print(src.shape[1],src.shape[0])"
      ],
      "execution_count": 20,
      "outputs": [
        {
          "output_type": "execute_result",
          "data": {
            "text/plain": [
              "True"
            ]
          },
          "metadata": {
            "tags": []
          },
          "execution_count": 20
        }
      ]
    },
    {
      "cell_type": "code",
      "metadata": {
        "id": "kEv53pIrXERj",
        "colab": {
          "base_uri": "https://localhost:8080/",
          "height": 549
        },
        "outputId": "ac470eca-63a6-48ba-ef2b-487a61a685ec"
      },
      "source": [
        "import cv2\n",
        "import numpy as np\n",
        "import matplotlib.pyplot as plt\n",
        "# read the image\n",
        "image = cv2.imread(\"/content/master_bathroom_floor_plan_3.jpg\")\n",
        "# convert it to grayscale\n",
        "#gray = cv2.cvtColor(image, cv2.COLOR_BGR2GRAY)\n",
        "# show the grayscale image\n",
        "#plt.imshow(gray, cmap=\"gray\")\n",
        "#plt.show()\n",
        "# perform the canny edge detector to detect image edges\n",
        "edges = cv2.Canny(image,threshold1=30, threshold2=100)\n",
        "print(edges)\n",
        "plt.imshow(edges)\n",
        "plt.show()\n",
        "cv2.destroyAllWindows()\n",
        "#cv2.waitkey(0)\n",
        "xcoord=[]\n",
        "ycoord=[]\n",
        "width,length,_=image.shape"
      ],
      "execution_count": 21,
      "outputs": [
        {
          "output_type": "stream",
          "text": [
            "[[  0   0   0 255   0   0   0   0   0 255   0   0 255   0 255   0]\n",
            " [  0   0   0 255 255   0 255 255   0 255   0   0   0   0 255   0]\n",
            " [  0   0 255   0 255 255 255   0   0 255   0 255 255 255 255   0]\n",
            " [  0 255   0   0   0   0   0   0   0 255 255   0   0   0 255   0]\n",
            " [  0 255   0   0   0   0   0   0   0   0   0   0   0   0 255   0]\n",
            " [  0 255   0   0   0   0   0   0   0   0   0   0   0   0 255   0]\n",
            " [  0   0 255   0   0   0   0   0   0   0   0   0   0   0 255   0]\n",
            " [  0 255 255   0 255 255   0   0   0   0   0   0   0 255 255   0]\n",
            " [  0   0   0 255   0 255   0   0   0   0   0   0   0 255   0   0]\n",
            " [  0   0   0   0   0   0 255   0   0   0   0   0   0 255   0   0]\n",
            " [255 255   0 255 255 255   0   0   0   0   0   0   0 255 255   0]\n",
            " [  0   0   0   0   0   0   0   0   0   0   0   0   0 255   0   0]\n",
            " [  0 255   0   0   0   0   0   0   0   0   0   0   0 255   0   0]\n",
            " [  0 255 255   0   0   0   0   0   0   0   0   0 255 255 255   0]\n",
            " [255   0   0 255 255 255   0   0   0   0 255 255   0 255   0   0]\n",
            " [  0   0   0   0   0   0 255   0   0   0 255   0   0 255   0   0]]\n"
          ],
          "name": "stdout"
        },
        {
          "output_type": "display_data",
          "data": {
            "image/png": "[encoded data removed]",
            "text/plain": [
              "<Figure size 432x288 with 1 Axes>"
            ]
          },
          "metadata": {
            "tags": [],
            "needs_background": "light"
          }
        }
      ]
    },
    {
      "cell_type": "code",
      "metadata": {
        "id": "9nDFjr7CKd3y"
      },
      "source": [
        "#the size of the area \n",
        "#SIZE_W = int(input(\"please enter the width of the building in meter :\"))\n",
        "#SIZE_H = int(input(\"please enter the height of the building in meter :\"))\n",
        "#print(SIZE_H,SIZE_W)"
      ],
      "execution_count": 22,
      "outputs": []
    },
    {
      "cell_type": "code",
      "metadata": {
        "id": "opPOgC3myjwt",
        "colab": {
          "base_uri": "https://localhost:8080/"
        },
        "outputId": "179665dd-6e29-4ed0-d429-5ca97de0480e"
      },
      "source": [
        "## detect the walls \n",
        "TupleWallsIndex=[]\n",
        "for i in range (width):\n",
        "  for j in range (length):\n",
        "    if edges[i][j] == 255:\n",
        "      TupleWallsIndex.append((i,j))\n",
        "print(TupleWallsIndex)\n",
        "SIZE_H=length\n",
        "SIZE_W=width"
      ],
      "execution_count": 23,
      "outputs": [
        {
          "output_type": "stream",
          "text": [
            "[(0, 3), (0, 9), (0, 12), (0, 14), (1, 3), (1, 4), (1, 6), (1, 7), (1, 9), (1, 14), (2, 2), (2, 4), (2, 5), (2, 6), (2, 9), (2, 11), (2, 12), (2, 13), (2, 14), (3, 1), (3, 9), (3, 10), (3, 14), (4, 1), (4, 14), (5, 1), (5, 14), (6, 2), (6, 14), (7, 1), (7, 2), (7, 4), (7, 5), (7, 13), (7, 14), (8, 3), (8, 5), (8, 13), (9, 6), (9, 13), (10, 0), (10, 1), (10, 3), (10, 4), (10, 5), (10, 13), (10, 14), (11, 13), (12, 1), (12, 13), (13, 1), (13, 2), (13, 12), (13, 13), (13, 14), (14, 0), (14, 3), (14, 4), (14, 5), (14, 10), (14, 11), (14, 13), (15, 6), (15, 10), (15, 13)]\n"
          ],
          "name": "stdout"
        }
      ]
    },
    {
      "cell_type": "code",
      "metadata": {
        "id": "Ct1MEcAwKhYq",
        "colab": {
          "base_uri": "https://localhost:8080/"
        },
        "outputId": "5f893c9a-98bd-49cc-d3b0-18511d0dcfc5"
      },
      "source": [
        "HM_EPISODES = 2500\n",
        "epsilon = 0.5  # randomness\n",
        "EPS_DECAY = 0.9999  # Every episode will be epsilon*EPS_DECAY\n",
        "SHOW_EVERY = 100  # how often to play through env visually.\n",
        "\n",
        "start_q_table = None  # if we have a pickled Q table, we'll put the filename of it here.\n",
        "\n",
        "LEARNING_RATE = 0.1\n",
        "DISCOUNT = 0.95\n",
        "ANTENNA_N = int(input(\"please enter the number of antennas ?\"))  # NUMBER OF ANTENNAS \n",
        "#SNR RANGES\n",
        "snr_range={\"highSNR_max\":-50,\"highSNR_min\":-80,\n",
        "           \"mediumSNR_max\":-90,\"mediumSNR_min\":-100,\n",
        "          \"deadzone\":-120}\n"
      ],
      "execution_count": 24,
      "outputs": [
        {
          "output_type": "stream",
          "text": [
            "please enter the number of antennas ?2\n"
          ],
          "name": "stdout"
        }
      ]
    },
    {
      "cell_type": "code",
      "metadata": {
        "id": "hDLiiMUeKqUw"
      },
      "source": [
        "#antenna\n",
        "class antenna:\n",
        "    def __init__(self,x_,y_):\n",
        "      if not x_:\n",
        "        self.x = np.random.randint(0, SIZE_W)\n",
        "      else:\n",
        "        self.x=x_\n",
        "      if not y_:\n",
        "        self.y = np.random.randint(0, SIZE_H)\n",
        "      else:\n",
        "        self.y=y_\n",
        "    def __str__(self):\n",
        "        return f\"{self.x}, {self.y}\"\n",
        "    def __sub__(self, other):\n",
        "        return (self.x-other.x, self.y-other.y)\n",
        "    def action(self, choice):\n",
        "        '''\n",
        "        Gives us 4 total movement options. (0,1,2,3)\n",
        "        '''\n",
        "        if choice == 0:  #up\n",
        "            #self.move(x=0, y=1)\n",
        "            self.x=self.x\n",
        "            self.y+=1\n",
        "            self.move()\n",
        "\n",
        "        elif choice == 1:  #down\n",
        "            #self.move(x=0, y=-1)\n",
        "            self.x=self.x\n",
        "            self.y-=1\n",
        "            self.move()\n",
        "\n",
        "        elif choice == 2:  #left\n",
        "           # self.move(x=-1, y=0)\n",
        "            self.x-=1\n",
        "            self.y=self.y\n",
        "            self.move()\n",
        "\n",
        "        elif choice == 3:    #right\n",
        "            # self.move(x=1, y=0)\n",
        "            self.x+=1\n",
        "            self.y=self.y\n",
        "            self.move()\n",
        "\n",
        "#    def move(self, x=False, y=False):\n",
        "    def move(self):\n",
        "        # If no value for x, move randomly\n",
        "      #  if not x:\n",
        "      #      self.x += np.random.randint(-1, 2)\n",
        "       # elif x==0:\n",
        "      #      self.x=self.x\n",
        "      #  else:\n",
        "       #     self.x += x\n",
        "\n",
        "        # If no value for y, move randomly\n",
        "       # if not y:\n",
        "        #    self.y += np.random.randint(-1, 2)\n",
        "       # elif y==0:\n",
        "        #    self.y=self.y\n",
        "       # else:\n",
        "        #    self.y += y\n",
        "      # If we are out of bounds, fix!\n",
        "        if self.x < 0:\n",
        "            self.x = 0\n",
        "        elif self.x > SIZE_W-1:\n",
        "            self.x = SIZE_W-1\n",
        "        if self.y < 0:\n",
        "            self.y = 0\n",
        "        elif self.y > SIZE_H-1:\n",
        "            self.y = SIZE_H-1\n",
        "\n"
      ],
      "execution_count": 25,
      "outputs": []
    },
    {
      "cell_type": "code",
      "metadata": {
        "id": "6E9GEGIcKwQe",
        "colab": {
          "base_uri": "https://localhost:8080/"
        },
        "outputId": "c7108e68-a659-4038-e2c7-db69f1a5e08c"
      },
      "source": [
        "ant = antenna(2,3)\n",
        "print(ant)\n",
        "ant.action(0) # up\n",
        "print(ant)\n",
        "ant.action(1) #down \n",
        "print(ant)\n",
        "ant.action(2) #left\n",
        "print(ant)\n",
        "ant.action(3) #right \n",
        "print(ant)\n"
      ],
      "execution_count": 27,
      "outputs": [
        {
          "output_type": "stream",
          "text": [
            "2, 3\n",
            "2, 4\n",
            "2, 3\n",
            "1, 3\n",
            "2, 3\n"
          ],
          "name": "stdout"
        }
      ]
    },
    {
      "cell_type": "code",
      "metadata": {
        "id": "VUA5sED5K4om",
        "colab": {
          "base_uri": "https://localhost:8080/"
        },
        "outputId": "666276ed-e87d-4fef-be9b-7472a0b43187"
      },
      "source": [
        "x = SIZE_W # Building X\n",
        "y = SIZE_H # Building Y\n",
        "z = 4 # actions\n",
        "## increase the size of a qtable dynamically from the number of antennas \n",
        "q_table={}\n",
        "for i in range(ANTENNA_N):\n",
        "  q_table[i]=np.zeros((x,y,z))\n",
        "  print(q_table[i].shape)\n",
        "\n",
        "#print(q_table)\n",
        "# q_table *= 0"
      ],
      "execution_count": 28,
      "outputs": [
        {
          "output_type": "stream",
          "text": [
            "(16, 16, 4)\n",
            "(16, 16, 4)\n"
          ],
          "name": "stdout"
        }
      ]
    },
    {
      "cell_type": "code",
      "metadata": {
        "id": "Cf46WNkHyBxc",
        "colab": {
          "base_uri": "https://localhost:8080/"
        },
        "outputId": "71305027-0c82-4aaf-bfd2-80d169d9c071"
      },
      "source": [
        "def dict_Bet_Edges(TupleWallsIndex,SIZE_H,SIZE_W):\n",
        "  dict_values_edges={}\n",
        "  for i in range(SIZE_H):\n",
        "    for j in range(SIZE_W):\n",
        "      for n in range(len(TupleWallsIndex)):\n",
        "        if n<len(TupleWallsIndex)-1:\n",
        "          x,y=TupleWallsIndex[n]\n",
        "          x1,y1=TupleWallsIndex[n+1]\n",
        "       # print(x,i,x1,y,j,y1)\n",
        "          if x<=i<=x1:\n",
        "            if y<=j<=y1:\n",
        "              #print(x,i,x1,y,j,y1)\n",
        "              dict_values_edges[i,j]=10\n",
        "          else:\n",
        "              dict_values_edges[i,j]=1\n",
        "        else:\n",
        "          break\n",
        "  return dict_values_edges \n",
        "      \n",
        "dict_Bet_Edges(TupleWallsIndex,SIZE_H,SIZE_W)\n",
        "print(len(dict_Bet_Edges(TupleWallsIndex,SIZE_H,SIZE_W)))\n",
        "print(dict_Bet_Edges(TupleWallsIndex,SIZE_H,SIZE_W)[0,1])\n",
        "\n"
      ],
      "execution_count": 29,
      "outputs": [
        {
          "output_type": "stream",
          "text": [
            "256\n",
            "1\n"
          ],
          "name": "stdout"
        }
      ]
    },
    {
      "cell_type": "code",
      "metadata": {
        "id": "zoLWIaQl0osh"
      },
      "source": [
        "#okomora model \n",
        "dict_values_edges=dict_Bet_Edges(TupleWallsIndex,SIZE_H,SIZE_W)\n",
        "def okomora(ant,SIZE_H,SIZE_W,dict_values_edges=dict_values_edges):\n",
        "  PathLoss=[]\n",
        "  attenuation= 13 #in db function of frequency and distance \n",
        "  freq= 2.4*(10^9) # the frequency og the signal\n",
        "  c= 3*(10^8) # the speed of light\n",
        "  #hte = input(\"please enter the height of the transmitter antenna ? \")\n",
        "  #hre = input(\"please enter the height of the receiver antenna ? \")\n",
        "  hte= 20\n",
        "  hre= 2\n",
        "  G_hte = 10*np.log(int(hte) /200) \n",
        "  G_hre = 10*np.log(int(hre)/ 3)\n",
        "  G_Area =27 # (Quasi Open Area)\n",
        "  for i in range(SIZE_H):\n",
        "    for j in range(SIZE_W):\n",
        "      difference = [ant.x-i,ant.y-j]\n",
        "      if difference == [0,0]:\n",
        "        continue\n",
        "      else:\n",
        "        ## calculate the pathloss\n",
        "        distance=pow((pow(difference[0],2)+pow(difference[1],2)),0.5)\n",
        "        #values=dict_Bet_Edges(TupleWallsIndex,SIZE_H,SIZE_W)\n",
        "        if (i,j) in dict_values_edges.keys():\n",
        "          x=dict_values_edges[i,j]\n",
        "          distance*=x\n",
        "        FPL      = 20*np.log(4*np.pi*distance*freq/c)\n",
        "        Path_Loss = FPL + attenuation - G_hte - G_hre - G_Area\n",
        "          #Path_Loss*=10\n",
        "        PathLoss.append(Path_Loss)\n",
        "  return PathLoss  \n",
        "#okomora(ant,SIZE_H,SIZE_W)  \n",
        "#len(okomora(ant,SIZE_H,SIZE_W))"
      ],
      "execution_count": 30,
      "outputs": []
    },
    {
      "cell_type": "code",
      "metadata": {
        "id": "ZhiHQdPgBPKP"
      },
      "source": [
        "def AnglesInDegrees(ant,SIZE_H,SIZE_W):\n",
        "  theta=[]\n",
        "  for i in range(SIZE_H):\n",
        "    for j in range(SIZE_W):\n",
        "      difference = [ant.x-i,ant.y-j]\n",
        "      if difference==[0,0]: # the same position as the antenna \n",
        "        continue\n",
        "      if difference[0]==0:     # the angle itself is either 90 or 270 tan will be infinite \n",
        "          if difference[1]>0:\n",
        "            t=90\n",
        "            theta.append(90)\n",
        "          else:\n",
        "            t=270\n",
        "            theta.append(270)\n",
        "      else:\n",
        "          tantheta= difference[1]/difference[0]\n",
        "          t=np.degrees(np.arctan(tantheta))\n",
        "          if t <=0:\n",
        "            t+=360\n",
        "            theta.append(t)\n",
        "          else:\n",
        "            theta.append(t)\n",
        "  return theta\n",
        "#print(len(AnglesInDegrees(ant,SIZE_H,SIZE_W)))"
      ],
      "execution_count": 31,
      "outputs": []
    },
    {
      "cell_type": "code",
      "metadata": {
        "id": "E37XWrUO0bs6"
      },
      "source": [
        "def measureSNR(ant,SIZE_H,SIZE_W,typeOfAntenna=\"omnidirectionnel\",dict_values_edges=dict_values_edges):\n",
        "  Path_Loss=okomora(ant,SIZE_H,SIZE_W,dict_values_edges)\n",
        "  Gain=[]\n",
        "  if typeOfAntenna == \"omnidirectionnel\" :\n",
        "    Gain_pannel=7 #in db\n",
        "    for i in range(len(Path_Loss)):\n",
        "      Gain.append(Gain_pannel-Path_Loss[i])\n",
        "  elif typeOfAntenna == \"directionnel\":\n",
        "    thetas=AnglesInDegrees(ant,SIZE_H,SIZE_W)\n",
        "    GainVsTheta={360:-20,30:-10,60:-5,90:15,120:0,150:-10,180:-20,210:-10,240:-8,270:-15,300:-8,330:-10} # values in db angle:gain\n",
        "    for i in range(len(thetas)):\n",
        "      t=thetas[i]\n",
        "      if t==0:\n",
        "       value = GainVsTheta[360]\n",
        "      elif t<=30:\n",
        "        value = GainVsTheta[30]\n",
        "      elif 30<t<=60:\n",
        "        value = GainVsTheta[60]\n",
        "      elif 60<t<=90:\n",
        "        value = GainVsTheta[90]\n",
        "      elif 90<t<=120:\n",
        "        value = GainVsTheta[120]\n",
        "      elif 120<t<=150:\n",
        "        value = GainVsTheta[150]\n",
        "      elif 150<t<=180:\n",
        "        value = GainVsTheta[180]\n",
        "      elif 180<t<=210:\n",
        "        value = GainVsTheta[210]\n",
        "      elif 210<t<=240:\n",
        "        value = GainVsTheta[240]\n",
        "      elif 240<t<=270:\n",
        "        value = GainVsTheta[270]\n",
        "      elif 270<t<=300:\n",
        "        value = GainVsTheta[300]\n",
        "      elif 300<t<=330:\n",
        "        value = GainVsTheta[330]\n",
        "      elif 330<t<=360:\n",
        "        value = GainVsTheta[360]\n",
        "      Gain.append(value-Path_Loss[i])\n",
        "  Magnitude=[]\n",
        "  for g in Gain:\n",
        "    mag=pow(10,(g/10))\n",
        "    Magnitude.append(mag)\n",
        "  return Magnitude\n",
        "#measureSNR(ant,SIZE_H,SIZE_W,typeOfAntenna=\"omnidirectionnel\")\n"
      ],
      "execution_count": 32,
      "outputs": []
    },
    {
      "cell_type": "code",
      "metadata": {
        "id": "AK9PzO2BLC2M",
        "colab": {
          "base_uri": "https://localhost:8080/"
        },
        "outputId": "d94b0b92-1757-473b-f5da-5ce0442042cc"
      },
      "source": [
        "def calSNRlow(SNR,TypeOfReward):\n",
        "  if TypeOfReward==\"AverageSNR\":\n",
        "   return np.mean(SNR)\n",
        "  else:\n",
        "    counter =0\n",
        "    percent=0\n",
        "    min= 5.095204897841283e-9\n",
        "    for i in range(len(SNR)):\n",
        "      if SNR[i] < min:\n",
        "        counter+=1\n",
        "        percent=counter*100/len(SNR)\n",
        "    return percent\n",
        "ant=antenna(2,3)\n",
        "calSNRlow(measureSNR (ant,SIZE_H,SIZE_W),TypeOfReward=\"AverageSNR\")"
      ],
      "execution_count": 33,
      "outputs": [
        {
          "output_type": "execute_result",
          "data": {
            "text/plain": [
              "1.9195965638932428e-08"
            ]
          },
          "metadata": {
            "tags": []
          },
          "execution_count": 33
        }
      ]
    },
    {
      "cell_type": "code",
      "metadata": {
        "id": "FwoPAVamNPBM"
      },
      "source": [
        "def differnceXandY(ant1,ant2):\n",
        "  diff_X= ant1.x-ant2.x\n",
        "  diff_Y= ant1.y-ant2.y\n",
        "  return diff_X,diff_Y"
      ],
      "execution_count": 34,
      "outputs": []
    },
    {
      "cell_type": "code",
      "metadata": {
        "id": "8uAbylNf0gBR",
        "colab": {
          "base_uri": "https://localhost:8080/"
        },
        "outputId": "dbd7163a-b6e9-4738-fc92-7bd511d70641"
      },
      "source": [
        "def RewardCalc(antennas_object,ANTENNA_N,typeOfAntenna=\"omnidirectionnel\",TypeOfReward=\"AverageSNR\"):\n",
        "  mini_distance_X= 1\n",
        "  mini_distance_Y= 1   \n",
        "  antennas_meanSNR={} # antenna and their mean values\n",
        "  #antennas_object={} # antenna and their classes\n",
        "  reward=0\n",
        "  reward_arr=np.zeros(((SIZE_H*SIZE_W)))\n",
        "  Magnitude=[]\n",
        "  for i in range(ANTENNA_N):\n",
        "    #antennas_object[i]=antenna()\n",
        "    antennas_meanSNR[i]=measureSNR(antennas_object[i],SIZE_H,SIZE_W,typeOfAntenna=typeOfAntenna)\n",
        "    #print(antennas_meanSNR[i])\n",
        "    #shift the list of SNRs before multiplying /or adding them \n",
        "    # to db\n",
        "    antennas_meanSNR[i]=10*np.log10(antennas_meanSNR[i])\n",
        "    ## if rect \n",
        "    if SIZE_H>SIZE_W:\n",
        "      position=(SIZE_W*(antennas_object[i].x)) + (antennas_object[i].y)\n",
        "    else:\n",
        "      position=(SIZE_H*(antennas_object[i].y)) + (antennas_object[i].x)\n",
        "    if len(antennas_meanSNR[i]) >= len(reward_arr) :\n",
        "      continue\n",
        "    else:\n",
        "      antennas_meanSNR[i]=np.insert(antennas_meanSNR[i],position,0)\n",
        "    #print(len(antennas_meanSNR[i]),len(reward_arr),antennas_object[i].x,antennas_object[i].y)\n",
        "  #print(antennas)\n",
        "    reward_arr=np.add(reward_arr,antennas_meanSNR[i])\n",
        "    # magnitude\n",
        "  # from db to magnitude \n",
        "    for g in reward_arr:\n",
        "      mag=pow(10,(g/10))\n",
        "      Magnitude.append(mag)\n",
        "  reward=calSNRlow(Magnitude,TypeOfReward=TypeOfReward)\n",
        "  #reward/=ANTENNA_N\n",
        "  #calculate the difference between each 2 antennas  \n",
        "  for i in range(ANTENNA_N):\n",
        "    for j in range(i):\n",
        "      if i==j:\n",
        "        continue\n",
        "      else:\n",
        "        #print(i,j)\n",
        "        x,y=differnceXandY(antennas_object[i],antennas_object[j]) \n",
        "        if (x <= mini_distance_X) & (y <= mini_distance_Y):\n",
        "          reward*=0.1 \n",
        "        if reward==0:\n",
        "          break\n",
        "#convert from db into magnitude \n",
        "  #  mag=pow(10,(reward/10))\n",
        "  return reward  \n",
        "antennas_object={}\n",
        "for i in range(ANTENNA_N):\n",
        "  antennas_object[i]=antenna(2+i,3+i)\n",
        "  #print( antennas_object[i].x, antennas_object[i].y)\n",
        "\n",
        "RewardCalc(antennas_object,ANTENNA_N)"
      ],
      "execution_count": 35,
      "outputs": [
        {
          "output_type": "execute_result",
          "data": {
            "text/plain": [
              "0.00019531347086508436"
            ]
          },
          "metadata": {
            "tags": []
          },
          "execution_count": 35
        }
      ]
    },
    {
      "cell_type": "code",
      "metadata": {
        "id": "l2qcdm6uLIBt"
      },
      "source": [
        "def TrainingAgent(HM_EPISODES=HM_EPISODES,EPS_DECAY=EPS_DECAY,LEARNING_RATE=LEARNING_RATE,DISCOUNT=DISCOUNT,epsilon=epsilon,\n",
        "                  ANTENNA_N=ANTENNA_N,SIZE_H=SIZE_H,SIZE_W=SIZE_W,typeOfAntenna=\"omnidirectionnel\",TypeOfReward=\"AverageSNR\",TupleWallsIndex=TupleWallsIndex):\n",
        "  dict_values_edges=dict_Bet_Edges(TupleWallsIndex,SIZE_H,SIZE_W)\n",
        "## actions\n",
        "  actions={}\n",
        "## antennas object\n",
        "  antennas_object={} # antenna and their classes\n",
        "##\n",
        "  episode_rewards = []\n",
        "  reward=0\n",
        "  for episode in range(HM_EPISODES):\n",
        "      x_=np.random.randint(0, SIZE_W)\n",
        "      y_=np.random.randint(0, SIZE_H)\n",
        "      for i in range(ANTENNA_N):\n",
        "        antennas_object[i]=antenna(x_,y_)\n",
        "      if episode % SHOW_EVERY == 0:\n",
        "          print(f\"on #{episode}\")\n",
        "       # print(f\"{SHOW_EVERY} ep mean: {np.mean(episode_rewards[-SHOW_EVERY:])}\")\n",
        "          show = True\n",
        "      else:\n",
        "          show = False\n",
        "\n",
        "      episode_reward = 0\n",
        "      for i in range(200):\n",
        "        if np.random.random() > epsilon:\n",
        "          for i in range(ANTENNA_N):\n",
        "            actions[i] = np.argmax(q_table[i][antennas_object[i].x][antennas_object[i].y]) # antenna 1\n",
        "        else:\n",
        "          for i in range(ANTENNA_N):\n",
        "            actions[i] = np.random.randint(0, 4) #low is inclusive high is exclusive\n",
        "            #print(action)\n",
        "        # Take the action!\n",
        "        for i in range(ANTENNA_N):\n",
        "          antennas_object[i].action(actions[i]) #move the  antenna\n",
        "        ###\n",
        "        #calculate the SNR\n",
        "        reward=RewardCalc(antennas_object,ANTENNA_N,typeOfAntenna=typeOfAntenna,TypeOfReward=TypeOfReward)\n",
        "          ###\n",
        "        #current_q = q_table[state][action]\n",
        "        #antena 1\n",
        "        for i in range(ANTENNA_N):\n",
        "            newAntennaPos = (ant)\n",
        "            current_q = q_table[i][antennas_object[i].x][antennas_object[i].y][actions[i]] # Current State\n",
        "            max_future_q = np.max(q_table[i][antennas_object[i].x][antennas_object[i].y]) # Max State\n",
        "            new_q = (1 - LEARNING_RATE) * current_q + LEARNING_RATE * (reward + DISCOUNT * max_future_q)\n",
        "            q_table[i][antennas_object[i].x][antennas_object[i].y][actions[i]] = new_q\n",
        "\n",
        "\n",
        "        #episode_reward += reward\n",
        "\n",
        "        #print(episode_reward)\n",
        "      #episode_rewards.append(episode_reward)\n",
        "      epsilon *= EPS_DECAY \n",
        "  return q_table"
      ],
      "execution_count": 36,
      "outputs": []
    },
    {
      "cell_type": "code",
      "metadata": {
        "id": "MlRe2xlS-qq8",
        "colab": {
          "base_uri": "https://localhost:8080/"
        },
        "outputId": "881affda-a308-4e39-e6a1-092c2074e86d"
      },
      "source": [
        "q_table=TrainingAgent(HM_EPISODES=HM_EPISODES,EPS_DECAY=EPS_DECAY,LEARNING_RATE=LEARNING_RATE,DISCOUNT=DISCOUNT,epsilon=epsilon,\n",
        "                  ANTENNA_N=ANTENNA_N,SIZE_H=SIZE_H,SIZE_W=SIZE_W,typeOfAntenna=\"omnidirectionnel\",TypeOfReward=\"AverageSNR\",TupleWallsIndex=TupleWallsIndex)"
      ],
      "execution_count": 37,
      "outputs": [
        {
          "output_type": "stream",
          "text": [
            "on #0\n",
            "on #100\n",
            "on #200\n",
            "on #300\n",
            "on #400\n",
            "on #500\n",
            "on #600\n",
            "on #700\n",
            "on #800\n",
            "on #900\n",
            "on #1000\n",
            "on #1100\n",
            "on #1200\n",
            "on #1300\n",
            "on #1400\n",
            "on #1500\n",
            "on #1600\n",
            "on #1700\n",
            "on #1800\n",
            "on #1900\n",
            "on #2000\n",
            "on #2100\n",
            "on #2200\n",
            "on #2300\n",
            "on #2400\n"
          ],
          "name": "stdout"
        }
      ]
    },
    {
      "cell_type": "code",
      "metadata": {
        "id": "XfPPRs2XWzYj",
        "colab": {
          "base_uri": "https://localhost:8080/",
          "height": 520
        },
        "outputId": "c02c9847-7511-43dd-b7ef-55c2de7517d3"
      },
      "source": [
        "xval_={}\n",
        "yval_={}\n",
        "for n in range(ANTENNA_N):\n",
        "  max_value =np.max((q_table[n]))\n",
        "  print(max_value)\n",
        "  for i in range(SIZE_W):\n",
        "    for j in range(SIZE_H):\n",
        "      for k in range(4):\n",
        "        if max_value == (q_table[n][i][j][k]):\n",
        "          xval_[n]=[i]\n",
        "          yval_[n]=[j]\n",
        "        else :\n",
        "          continue\n",
        "#outputOfTraining(q_table)\n",
        "figure(figsize=(8, 6), dpi=80) # increase figure size \n",
        "print(xval_,yval_)\n",
        "for n in range(ANTENNA_N):\n",
        "  plt.scatter(xval_[n], yval_[n], color= \"blue\", linewidths =2 ,marker =\"s\")\n",
        "plt.xlim(0, SIZE_H-1)\n",
        "plt.ylim(0, SIZE_W-1)\n",
        "plt.show()\n",
        "antennas_object_toplot_heat={}\n",
        "for n in range(ANTENNA_N):\n",
        "  print(xval_[n],yval_[n])\n",
        "  antennas_object_toplot_heat[n]=[xval_[n][0],yval_[n][0]]\n",
        "print(antennas_object_toplot_heat)\n"
      ],
      "execution_count": 38,
      "outputs": [
        {
          "output_type": "stream",
          "text": [
            "0.03906240086047701\n",
            "0.039042701254539965\n",
            "{0: [0], 1: [15]} {0: [3], 1: [13]}\n"
          ],
          "name": "stdout"
        },
        {
          "output_type": "display_data",
          "data": {
            "image/png": "[encoded data removed]",
            "text/plain": [
              "<Figure size 640x480 with 1 Axes>"
            ]
          },
          "metadata": {
            "tags": [],
            "needs_background": "light"
          }
        },
        {
          "output_type": "stream",
          "text": [
            "[0] [3]\n",
            "[15] [13]\n",
            "{0: [0, 3], 1: [15, 13]}\n"
          ],
          "name": "stdout"
        }
      ]
    },
    {
      "cell_type": "markdown",
      "metadata": {
        "id": "oGLYrjQQWrLP"
      },
      "source": [
        "Average SNR must be constant "
      ]
    },
    {
      "cell_type": "markdown",
      "metadata": {
        "id": "xp3xUZCTFz_K"
      },
      "source": [
        "assume that power adds up (SNR) -> reward \n",
        "qtable -> add the positions of new antenna and actions \n",
        "3 antennas optimization all area \n"
      ]
    },
    {
      "cell_type": "code",
      "metadata": {
        "id": "ioNcIRd6AB4R",
        "colab": {
          "base_uri": "https://localhost:8080/"
        },
        "outputId": "c311e138-edba-4b65-9969-8340a499bb5b"
      },
      "source": [
        "antennas_object_heatmap={} #dict for antennas and their position \n",
        "SumOfSNR=np.zeros((1,SIZE_H*SIZE_W))\n",
        "position=[]\n",
        "for n in range(ANTENNA_N):\n",
        "  x=antennas_object_toplot_heat[n][0]\n",
        "  y=antennas_object_toplot_heat[n][1]\n",
        "  antennas_object_heatmap[n]=antenna(x,y)\n",
        "  #1d coordinate \n",
        "  position.append((SIZE_H*x)+ y)\n",
        "  ArrayOfSNR=measureSNR(antennas_object_heatmap[n],SIZE_H,SIZE_W,typeOfAntenna=\"omnidirectionnel\")\n",
        "  ## convert from magnitude to db \n",
        "  ArrayOfSNR=10*np.log10(ArrayOfSNR)\n",
        "  ArrayOfSNR=np.insert(ArrayOfSNR,position[n],0)\n",
        "  SumOfSNR=np.add(SumOfSNR,ArrayOfSNR)\n",
        "for i in range(len(SumOfSNR)):\n",
        "  SumOfSNR[i]/=ANTENNA_N #average \n",
        "print(len(SumOfSNR[0])) "
      ],
      "execution_count": 39,
      "outputs": [
        {
          "output_type": "stream",
          "text": [
            "256\n"
          ],
          "name": "stdout"
        }
      ]
    },
    {
      "cell_type": "code",
      "metadata": {
        "id": "0mCBD5MYKkX4",
        "colab": {
          "base_uri": "https://localhost:8080/"
        },
        "outputId": "9e58c6d9-146b-4769-8a0e-80d36e6b24c1"
      },
      "source": [
        "import pandas as pd\n",
        "import seaborn as sns\n",
        "# sns.set()\n",
        "snr_db=SumOfSNR\n",
        "#for SNR in (SumOfSNR):\n",
        "#  out_=10*np.log10(SNR)\n",
        "#  snr_db.append(out_)\n",
        "#print(snr_db)\n",
        "# Build data\n",
        "max_value_snr=np.max(snr_db)\n",
        "min_value_snr=np.min(snr_db)\n",
        "print(max_value_snr)\n",
        "print(min_value_snr)"
      ],
      "execution_count": 40,
      "outputs": [
        {
          "output_type": "stream",
          "text": [
            "-59.09283495479218\n",
            "-144.89153388557264\n"
          ],
          "name": "stdout"
        }
      ]
    },
    {
      "cell_type": "code",
      "metadata": {
        "id": "QaMhqo8CKr0-",
        "colab": {
          "base_uri": "https://localhost:8080/",
          "height": 328
        },
        "outputId": "e1668256-0839-4cb7-ce3e-87ff3a642b72"
      },
      "source": [
        "## 1D heatmap\n",
        "plt.figure()\n",
        "plt.suptitle(\"Seaborn heatmap example to display 1d percentage values\", color='m')\n",
        "sns.set(font_scale=0.8)\n",
        "\n",
        "print(len(snr_db))\n",
        "snr_db=np.reshape(snr_db,((SIZE_H*SIZE_W),1)) ## size_w*size_h -1\n",
        "ax = sns.heatmap(snr_db, vmin=min_value_snr, vmax=max_value_snr)\n",
        "ax.set(xlabel='x label', ylabel='y label')\n",
        "\n",
        "plt.show()"
      ],
      "execution_count": 41,
      "outputs": [
        {
          "output_type": "stream",
          "text": [
            "1\n"
          ],
          "name": "stdout"
        },
        {
          "output_type": "display_data",
          "data": {
            "image/png": "[encoded data removed]",
            "text/plain": [
              "<Figure size 432x288 with 2 Axes>"
            ]
          },
          "metadata": {
            "tags": [],
            "needs_background": "light"
          }
        }
      ]
    },
    {
      "cell_type": "code",
      "metadata": {
        "id": "jsnvcs-QY5Qn",
        "colab": {
          "base_uri": "https://localhost:8080/"
        },
        "outputId": "1ea80ede-a850-46ed-b8eb-b54bd362569d"
      },
      "source": [
        "#create 2D heatmap\n",
        "rows=[]\n",
        "#print(type(snr_db[0]))\n",
        "# insert a value\n",
        "#convert 2d array \n",
        "snr_db=np.reshape(snr_db,(SIZE_H,SIZE_W))\n",
        "#snr_db=10*(np.log10(snr_db))\n",
        "print(snr_db)\n",
        "for n in range(ANTENNA_N):\n",
        "  x=antennas_object_toplot_heat[n][0]\n",
        "  y=antennas_object_toplot_heat[n][1]\n",
        "  snr_db[y][x]=0\n",
        "#print(snr_db)\n",
        "rows=snr_db\n",
        "print(rows) \n"
      ],
      "execution_count": 42,
      "outputs": [
        {
          "output_type": "stream",
          "text": [
            "[[-112.72822098 -112.11465759 -111.6132082   -59.09283495 -110.93758937\n",
            "  -110.71314776 -110.6263149  -110.66906847 -110.82827757 -111.08859822\n",
            "  -111.43489334 -111.85370036 -112.33376179 -112.86590177 -113.44257824\n",
            "  -114.05736659]\n",
            " [-116.92740687 -110.94444338 -110.23946548 -109.67115171 -109.26192103\n",
            "  -109.02276259 -108.95124766 -109.03340215 -109.24836477 -109.57353131\n",
            "  -109.98831891 -110.47594401 -111.02358805 -111.62166009 -112.26276887\n",
            "  -112.94078404]\n",
            " [-116.15033796 -109.38064909 -108.54828227 -107.88109001 -107.41382417\n",
            "  -107.16272538 -107.12135297 -107.26468303 -107.55864523 -107.96952268\n",
            "  -108.46959212 -109.03871345 -109.66334937 -110.33458391 -111.0461418\n",
            "  -111.79286824]\n",
            " [-115.39188498 -107.69553294 -106.69046449 -105.88784878 -105.34551479\n",
            "  -105.08969805 -105.1052663  -105.34551479 -105.75313025 -106.27765648\n",
            "  -106.88293829 -107.54673574 -108.25693773 -109.00735426 -109.79436123\n",
            "  -110.61470848]\n",
            " [-114.66160696 -105.87786984 -104.62858587 -103.62871428 -102.9831357\n",
            "  -102.7396799  -102.86288942 -103.26044974 -103.83331153 -104.50743774\n",
            "  -105.23945966 -106.00931224 -106.81070516 -107.64356628 -108.509092\n",
            "  -109.40701988]\n",
            " [-113.97046856 -103.92763834 -102.31689296 -101.00507164 -100.20284685\n",
            "  -100.01281695 -100.34581098 -101.00507164 -101.81766629 -102.68322938\n",
            "  -103.56037609 -104.44130893 -105.33315384 -106.24682391 -107.19097163\n",
            "  -108.16927721]\n",
            " [-113.33059175 -101.87977889  -99.71350336  -97.85282871  -96.77152265\n",
            "   -96.74401226  -97.50983713  -98.61014655  -99.75899268 -100.8527756\n",
            "  -101.87977889 -102.86288942 -103.83331153 -104.81871221 -105.83775373\n",
            "  -106.89834662]\n",
            " [-112.75479996  -99.85985527  -96.84640492  -93.89393979  -92.1625586\n",
            "   -92.65475897  -94.38156489  -96.1980158   -97.7692613   -99.09403041\n",
            "  -100.24411256 -101.29641618 -102.31689296 -103.35508979 -104.44130893\n",
            "  -105.5865253 ]\n",
            " [-112.25595477  -98.1737945   -94.07359983  -88.83288552  -84.68509034\n",
            "   -87.45009308  -91.31944504  -94.07359983  -96.03381027  -97.50983713\n",
            "   -98.7042227   -99.75899268 -100.77946946 -101.84011581 -102.9831357\n",
            "  -104.21898288]\n",
            " [-111.84613669  -97.29832523  -92.56011892  -84.91069251  -84.15828776\n",
            "   -90.30474082  -93.54679726  -95.59369229  -96.99616653  -98.02123137\n",
            "   -98.83983203  -99.58623077 -100.37425342 -101.29086371 -102.38096038\n",
            "  -103.64088185]\n",
            " [ -98.19963435  -94.04410122  -88.7311871   -84.48898677  -87.13034946\n",
            "   -90.8377895   -93.38066902  -95.06785413  -96.1980158   -96.96986798\n",
            "   -97.53933574  -98.05583359  -98.67149701  -99.51739979 -100.658006\n",
            "  -102.06756595]\n",
            " [ -99.273944    -96.12049487  -92.99451228  -91.04684085  -91.26816254\n",
            "   -92.65475897  -94.04410122  -95.08229805  -95.75175757  -96.12049487\n",
            "   -96.29325678  -96.42361798  -96.72674109  -97.43231619  -98.65505349\n",
            "  -100.31214082]\n",
            " [-100.70819463  -98.32435448  -96.1980158   -94.79028038  -94.3593919\n",
            "   -94.62446208  -95.10149193  -95.47510966  -95.61102333  -95.47510966\n",
            "   -95.10149193  -94.62446208  -94.3593919   -94.79028038  -96.1980158\n",
            "   -98.32435448]\n",
            " [-102.20825518 -100.31214082  -98.65505349  -97.43231619  -96.72674109\n",
            "   -96.42361798  -96.29325678  -96.12049487  -95.75175757  -95.08229805\n",
            "   -94.04410122  -92.65475897  -91.26816254  -91.04684085  -92.99451228\n",
            "   -96.12049487]\n",
            " [-103.65821289 -102.06756595 -100.658006    -99.51739979  -98.67149701\n",
            "   -98.05583359  -97.53933574  -96.96986798  -96.1980158   -95.06785413\n",
            "   -93.38066902  -90.8377895   -87.13034946  -84.48898677  -88.7311871\n",
            "   -94.04410122]\n",
            " [-105.03022411 -103.64088185 -102.38096038 -101.29086371 -100.37425342\n",
            "   -99.58623077 -144.89153389 -144.07293323 -143.04786839 -141.64539415\n",
            "  -139.59849912 -136.35644268 -130.20998962  -77.7628344   -85.62864711\n",
            "   -93.24367415]]\n",
            "[[-112.72822098 -112.11465759 -111.6132082   -59.09283495 -110.93758937\n",
            "  -110.71314776 -110.6263149  -110.66906847 -110.82827757 -111.08859822\n",
            "  -111.43489334 -111.85370036 -112.33376179 -112.86590177 -113.44257824\n",
            "  -114.05736659]\n",
            " [-116.92740687 -110.94444338 -110.23946548 -109.67115171 -109.26192103\n",
            "  -109.02276259 -108.95124766 -109.03340215 -109.24836477 -109.57353131\n",
            "  -109.98831891 -110.47594401 -111.02358805 -111.62166009 -112.26276887\n",
            "  -112.94078404]\n",
            " [-116.15033796 -109.38064909 -108.54828227 -107.88109001 -107.41382417\n",
            "  -107.16272538 -107.12135297 -107.26468303 -107.55864523 -107.96952268\n",
            "  -108.46959212 -109.03871345 -109.66334937 -110.33458391 -111.0461418\n",
            "  -111.79286824]\n",
            " [   0.         -107.69553294 -106.69046449 -105.88784878 -105.34551479\n",
            "  -105.08969805 -105.1052663  -105.34551479 -105.75313025 -106.27765648\n",
            "  -106.88293829 -107.54673574 -108.25693773 -109.00735426 -109.79436123\n",
            "  -110.61470848]\n",
            " [-114.66160696 -105.87786984 -104.62858587 -103.62871428 -102.9831357\n",
            "  -102.7396799  -102.86288942 -103.26044974 -103.83331153 -104.50743774\n",
            "  -105.23945966 -106.00931224 -106.81070516 -107.64356628 -108.509092\n",
            "  -109.40701988]\n",
            " [-113.97046856 -103.92763834 -102.31689296 -101.00507164 -100.20284685\n",
            "  -100.01281695 -100.34581098 -101.00507164 -101.81766629 -102.68322938\n",
            "  -103.56037609 -104.44130893 -105.33315384 -106.24682391 -107.19097163\n",
            "  -108.16927721]\n",
            " [-113.33059175 -101.87977889  -99.71350336  -97.85282871  -96.77152265\n",
            "   -96.74401226  -97.50983713  -98.61014655  -99.75899268 -100.8527756\n",
            "  -101.87977889 -102.86288942 -103.83331153 -104.81871221 -105.83775373\n",
            "  -106.89834662]\n",
            " [-112.75479996  -99.85985527  -96.84640492  -93.89393979  -92.1625586\n",
            "   -92.65475897  -94.38156489  -96.1980158   -97.7692613   -99.09403041\n",
            "  -100.24411256 -101.29641618 -102.31689296 -103.35508979 -104.44130893\n",
            "  -105.5865253 ]\n",
            " [-112.25595477  -98.1737945   -94.07359983  -88.83288552  -84.68509034\n",
            "   -87.45009308  -91.31944504  -94.07359983  -96.03381027  -97.50983713\n",
            "   -98.7042227   -99.75899268 -100.77946946 -101.84011581 -102.9831357\n",
            "  -104.21898288]\n",
            " [-111.84613669  -97.29832523  -92.56011892  -84.91069251  -84.15828776\n",
            "   -90.30474082  -93.54679726  -95.59369229  -96.99616653  -98.02123137\n",
            "   -98.83983203  -99.58623077 -100.37425342 -101.29086371 -102.38096038\n",
            "  -103.64088185]\n",
            " [ -98.19963435  -94.04410122  -88.7311871   -84.48898677  -87.13034946\n",
            "   -90.8377895   -93.38066902  -95.06785413  -96.1980158   -96.96986798\n",
            "   -97.53933574  -98.05583359  -98.67149701  -99.51739979 -100.658006\n",
            "  -102.06756595]\n",
            " [ -99.273944    -96.12049487  -92.99451228  -91.04684085  -91.26816254\n",
            "   -92.65475897  -94.04410122  -95.08229805  -95.75175757  -96.12049487\n",
            "   -96.29325678  -96.42361798  -96.72674109  -97.43231619  -98.65505349\n",
            "  -100.31214082]\n",
            " [-100.70819463  -98.32435448  -96.1980158   -94.79028038  -94.3593919\n",
            "   -94.62446208  -95.10149193  -95.47510966  -95.61102333  -95.47510966\n",
            "   -95.10149193  -94.62446208  -94.3593919   -94.79028038  -96.1980158\n",
            "   -98.32435448]\n",
            " [-102.20825518 -100.31214082  -98.65505349  -97.43231619  -96.72674109\n",
            "   -96.42361798  -96.29325678  -96.12049487  -95.75175757  -95.08229805\n",
            "   -94.04410122  -92.65475897  -91.26816254  -91.04684085  -92.99451228\n",
            "     0.        ]\n",
            " [-103.65821289 -102.06756595 -100.658006    -99.51739979  -98.67149701\n",
            "   -98.05583359  -97.53933574  -96.96986798  -96.1980158   -95.06785413\n",
            "   -93.38066902  -90.8377895   -87.13034946  -84.48898677  -88.7311871\n",
            "   -94.04410122]\n",
            " [-105.03022411 -103.64088185 -102.38096038 -101.29086371 -100.37425342\n",
            "   -99.58623077 -144.89153389 -144.07293323 -143.04786839 -141.64539415\n",
            "  -139.59849912 -136.35644268 -130.20998962  -77.7628344   -85.62864711\n",
            "   -93.24367415]]\n"
          ],
          "name": "stdout"
        }
      ]
    },
    {
      "cell_type": "code",
      "metadata": {
        "id": "N_eVcnjZb9-G",
        "colab": {
          "base_uri": "https://localhost:8080/",
          "height": 846
        },
        "outputId": "8207c4ae-7dce-41d8-baa2-95f1c23da47e"
      },
      "source": [
        "#2D heatmap\n",
        "plt.figure()\n",
        "plt.suptitle(\"Seaborn heatmap example to display 2d percentage values\", color='m')\n",
        "sns.set(font_scale=0.8)\n",
        "\n",
        "#print(type(rows))\n",
        "figure(figsize=(8, 6), dpi=80) # increase figure size \n",
        "rows_db=np.reshape(rows,(SIZE_H,SIZE_W))\n",
        "ax = sns.heatmap(rows_db, vmin=min_value_snr, vmax=max_value_snr)\n",
        "ax.set(xlabel='y label', ylabel='x label')\n",
        "\n",
        "\n",
        "plt.show()\n",
        "figure(figsize=(8, 6), dpi=80) # increase figure size \n",
        "for n in range(ANTENNA_N):\n",
        "  plt.scatter(xval_[n], yval_[n], color= \"green\", linewidths =10 ,marker =\"s\")\n",
        "plt.xlim(0, SIZE_H-1)\n",
        "plt.ylim(0, SIZE_W-1)\n",
        "plt.imshow(edges)\n",
        "plt.show()"
      ],
      "execution_count": 44,
      "outputs": [
        {
          "output_type": "display_data",
          "data": {
            "text/plain": [
              "<Figure size 432x288 with 0 Axes>"
            ]
          },
          "metadata": {
            "tags": []
          }
        },
        {
          "output_type": "display_data",
          "data": {
            "image/png": "[encoded data removed]",
            "text/plain": [
              "<Figure size 640x480 with 2 Axes>"
            ]
          },
          "metadata": {
            "tags": []
          }
        },
        {
          "output_type": "display_data",
          "data": {
            "image/png": "[encoded data removed]",
            "text/plain": [
              "<Figure size 640x480 with 1 Axes>"
            ]
          },
          "metadata": {
            "tags": []
          }
        }
      ]
    }
  ]
}