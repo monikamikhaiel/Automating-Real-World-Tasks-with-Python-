{
  "nbformat": 4,
  "nbformat_minor": 0,
  "metadata": {
    "colab": {
      "name": "Multiple Antennas_qtable",
      "provenance": [],
      "collapsed_sections": [],
      "include_colab_link": true
    },
    "kernelspec": {
      "display_name": "Python 3",
      "name": "python3"
    },
    "language_info": {
      "name": "python"
    }
  },
  "cells": [
    {
      "cell_type": "markdown",
      "metadata": {
        "id": "view-in-github",
        "colab_type": "text"
      },
      "source": [
        "<a href=\"https://colab.research.google.com/github/monikamikhaiel/Automating-Real-World-Tasks-with-Python-/blob/main/Multiple_Antennas_qtable.ipynb\" target=\"_parent\"><img src=\"https://colab.research.google.com/assets/colab-badge.svg\" alt=\"Open In Colab\"/></a>"
      ]
    },
    {
      "cell_type": "code",
      "metadata": {
        "id": "gP53XJtFISeC"
      },
      "source": [
        "import numpy as np  # for array stuff and random\n",
        "import matplotlib.pyplot as plt  # for graphing our mean rewards over time\n",
        "from matplotlib import style  # to make pretty charts because it matters.\n",
        "import time  # using this to keep track of our saved Q-Tables.\n",
        "import cv2\n",
        "\n",
        "style.use(\"ggplot\")  # setting our style!"
      ],
      "execution_count": 1,
      "outputs": []
    },
    {
      "cell_type": "code",
      "metadata": {
        "id": "9nDFjr7CKd3y",
        "colab": {
          "base_uri": "https://localhost:8080/"
        },
        "outputId": "10718b56-881f-4ce2-97b6-5605dfb81194"
      },
      "source": [
        "# area\n",
        "#im = cv2.imread('/content/room.jpg')\n",
        "#width = int(im.shape[1] * 50 / 100)\n",
        "#height = int(im.shape[0] * 50 / 100)\n",
        "\n",
        "# dsize\n",
        "#dsize = (width, height)\n",
        "\n",
        "# resize image\n",
        "#output = cv2.resize(im, dsize)\n",
        "\n",
        "#print(im.shape)\n",
        "SIZE_W = 5\n",
        "SIZE_H = 5\n",
        "print(SIZE_H,SIZE_W)\n",
        "#cv2.waitKey(0)\n",
        "#cv2.destroyAllWindows()"
      ],
      "execution_count": 2,
      "outputs": [
        {
          "output_type": "stream",
          "text": [
            "5 5\n"
          ],
          "name": "stdout"
        }
      ]
    },
    {
      "cell_type": "code",
      "metadata": {
        "id": "Ct1MEcAwKhYq",
        "colab": {
          "base_uri": "https://localhost:8080/"
        },
        "outputId": "3f5bb533-b0a5-412d-d24e-2aae92a4036c"
      },
      "source": [
        "HM_EPISODES = 2500\n",
        "epsilon = 0.5  # randomness\n",
        "EPS_DECAY = 0.9999  # Every episode will be epsilon*EPS_DECAY\n",
        "SHOW_EVERY = 100  # how often to play through env visually.\n",
        "\n",
        "start_q_table = None  # if we have a pickled Q table, we'll put the filename of it here.\n",
        "\n",
        "LEARNING_RATE = 0.1\n",
        "DISCOUNT = 0.95\n",
        "ANTENNA_N = int(input(\"please enter the number of antennas ?\"))  # NUMBER OF ANTENNAS \n",
        "\n",
        "# the dict! Using just for colors\n",
        "d = {1: (255, 175, 0) }  # Antenna color blue\n",
        "#SNR RANGES\n",
        "snr_range={\"highSNR_max\":-50,\"highSNR_min\":-80,\n",
        "           \"mediumSNR_max\":-90,\"mediumSNR_min\":-100,\n",
        "          \"deadzone\":-120}\n"
      ],
      "execution_count": 21,
      "outputs": [
        {
          "output_type": "stream",
          "text": [
            "please enter the number of antennas ?3\n"
          ],
          "name": "stdout"
        }
      ]
    },
    {
      "cell_type": "code",
      "metadata": {
        "id": "hDLiiMUeKqUw"
      },
      "source": [
        "#antenna\n",
        "class antenna:\n",
        "    def __init__(self):\n",
        "        self.x = np.random.randint(0, SIZE_W)\n",
        "        self.y = np.random.randint(0, SIZE_H)\n",
        "    def __str__(self):\n",
        "        return f\"{self.x}, {self.y}\"\n",
        "    def __sub__(self, other):\n",
        "        return (self.x-other.x, self.y-other.y)\n",
        "    def action(self, choice):\n",
        "        '''\n",
        "        Gives us 4 total movement options. (0,1,2,3)\n",
        "        '''\n",
        "        if choice == 0:  #up\n",
        "            #self.move(x=0, y=1)\n",
        "            self.x=self.x\n",
        "            self.y+=1\n",
        "            self.move()\n",
        "\n",
        "        elif choice == 1:  #down\n",
        "            #self.move(x=0, y=-1)\n",
        "            self.x=self.x\n",
        "            self.y-=1\n",
        "            self.move()\n",
        "\n",
        "        elif choice == 2:  #left\n",
        "           # self.move(x=-1, y=0)\n",
        "            self.x-=1\n",
        "            self.y=self.y\n",
        "            self.move()\n",
        "\n",
        "        elif choice == 3:    #right\n",
        "            # self.move(x=1, y=0)\n",
        "            self.x+=1\n",
        "            self.y=self.y\n",
        "            self.move()\n",
        "\n",
        "#    def move(self, x=False, y=False):\n",
        "    def move(self):\n",
        "        # If no value for x, move randomly\n",
        "      #  if not x:\n",
        "      #      self.x += np.random.randint(-1, 2)\n",
        "       # elif x==0:\n",
        "      #      self.x=self.x\n",
        "      #  else:\n",
        "       #     self.x += x\n",
        "\n",
        "        # If no value for y, move randomly\n",
        "       # if not y:\n",
        "        #    self.y += np.random.randint(-1, 2)\n",
        "       # elif y==0:\n",
        "        #    self.y=self.y\n",
        "       # else:\n",
        "        #    self.y += y\n",
        "      # If we are out of bounds, fix!\n",
        "        if self.x < 0:\n",
        "            self.x = 0\n",
        "        elif self.x > SIZE_W-1:\n",
        "            self.x = SIZE_W-1\n",
        "        if self.y < 0:\n",
        "            self.y = 0\n",
        "        elif self.y > SIZE_H-1:\n",
        "            self.y = SIZE_H-1\n",
        "\n"
      ],
      "execution_count": 4,
      "outputs": []
    },
    {
      "cell_type": "code",
      "metadata": {
        "id": "6E9GEGIcKwQe",
        "colab": {
          "base_uri": "https://localhost:8080/"
        },
        "outputId": "2171e69e-32a1-41e5-8505-7d2c76ae3b05"
      },
      "source": [
        "ant = antenna()\n",
        "print(ant)\n",
        "ant.action(0) # up\n",
        "print(ant)\n",
        "ant.action(1) #down \n",
        "print(ant)\n",
        "ant.action(2) #left\n",
        "print(ant)\n",
        "ant.action(3) #right \n",
        "print(ant)\n"
      ],
      "execution_count": 5,
      "outputs": [
        {
          "output_type": "stream",
          "text": [
            "2, 0\n",
            "2, 1\n",
            "2, 0\n",
            "1, 0\n",
            "2, 0\n"
          ],
          "name": "stdout"
        }
      ]
    },
    {
      "cell_type": "code",
      "metadata": {
        "id": "VUA5sED5K4om",
        "colab": {
          "base_uri": "https://localhost:8080/"
        },
        "outputId": "fa37bc91-17ad-4226-cff0-5fbeb45b9f5b"
      },
      "source": [
        "x = SIZE_W # Building X\n",
        "y = SIZE_H # Building Y\n",
        "z = 4 # actions\n",
        "## increase the size of a qtable dynamically from the number of antennas \n",
        "q_table={}\n",
        "for i in range(ANTENNA_N):\n",
        "  q_table[i]=np.zeros((x,y,z))\n",
        "  print(q_table[i].shape)\n",
        "\n",
        "#print(q_table)\n",
        "# q_table *= 0"
      ],
      "execution_count": 22,
      "outputs": [
        {
          "output_type": "stream",
          "text": [
            "(5, 5, 4)\n",
            "(5, 5, 4)\n",
            "(5, 5, 4)\n"
          ],
          "name": "stdout"
        }
      ]
    },
    {
      "cell_type": "code",
      "metadata": {
        "id": "UjlfgMCzAzex"
      },
      "source": [
        "#okomora model \n",
        "def okomora(ant,SIZE_H,SIZE_W):\n",
        "  PathLoss=[]\n",
        "  attenuation= 13 #in db function of frequency and distance \n",
        "  freq= 2.4*(10^9) # the frequency og the signal\n",
        "  c= 3*(10^8) # the speed of light\n",
        "  #hte = input(\"please enter the height of the transmitter antenna ? \")\n",
        "  #hre = input(\"please enter the height of the receiver antenna ? \")\n",
        "  hte= 20\n",
        "  hre= 2\n",
        "  G_hte = 10*np.log(int(hte) /200) \n",
        "  G_hre = 10*np.log(int(hre)/ 3)\n",
        "  G_Area =27 # (Quasi Open Area)\n",
        "  for i in range(SIZE_H):\n",
        "    for j in range(SIZE_W):\n",
        "      difference = [ant.x-i,ant.y-j]\n",
        "      if difference == [0,0]:\n",
        "        continue\n",
        "      else:\n",
        "        ## calculate the pathloss\n",
        "        distance=pow((pow(difference[0],2)+pow(difference[1],2)),0.5)\n",
        "        FPL      = 20*np.log(4*np.pi*distance*freq/c)\n",
        "        Path_Loss = FPL + attenuation - G_hte - G_hre - G_Area\n",
        "        PathLoss.append(Path_Loss)\n",
        "  return PathLoss  \n",
        "#len(okomora(ant,SIZE_H,SIZE_W))"
      ],
      "execution_count": 7,
      "outputs": []
    },
    {
      "cell_type": "code",
      "metadata": {
        "id": "ZhiHQdPgBPKP"
      },
      "source": [
        "def AnglesInDegrees(ant,SIZE_H,SIZE_W):\n",
        "  theta=[]\n",
        "  for i in range(SIZE_H):\n",
        "    for j in range(SIZE_W):\n",
        "      difference = [ant.x-i,ant.y-j]\n",
        "      if difference==[0,0]: # the same position as the antenna \n",
        "        continue\n",
        "      if difference[0]==0:     # the angle itself is either 90 or 270 tan will be infinite \n",
        "          if difference[1]>0:\n",
        "            t=90\n",
        "            theta.append(90)\n",
        "          else:\n",
        "            t=270\n",
        "            theta.append(270)\n",
        "      else:\n",
        "          tantheta= difference[1]/difference[0]\n",
        "          t=np.degrees(np.arctan(tantheta))\n",
        "          if t <=0:\n",
        "            t+=360\n",
        "            theta.append(t)\n",
        "          else:\n",
        "            theta.append(t)\n",
        "  return theta\n",
        "#print(len(AnglesInDegrees(ant,SIZE_H,SIZE_W)))"
      ],
      "execution_count": 8,
      "outputs": []
    },
    {
      "cell_type": "code",
      "metadata": {
        "id": "Q-YCAFATC7SQ"
      },
      "source": [
        "def measureSNR(ant,SIZE_H,SIZE_W,type=\"omnidirectionnel\"):\n",
        "  Path_Loss=okomora(ant,SIZE_H,SIZE_W)\n",
        "  Gain=[]\n",
        "  if type == \"omnidirectionnel\" :\n",
        "    Gain_pannel=7 #in db\n",
        "    for i in range(len(Path_Loss)):\n",
        "      Gain.append(Gain_pannel-Path_Loss[i])\n",
        "  elif type== \"directionnel\":\n",
        "    thetas=AnglesInDegrees(ant,SIZE_H,SIZE_W)\n",
        "    GainVsTheta={360:-20,30:-10,60:-5,90:15,120:0,150:-10,180:-20,210:-10,240:-8,270:-15,300:-8,330:-10} # values in db angle:gain\n",
        "    for i in range(len(thetas)):\n",
        "      t=thetas[i]\n",
        "      if t==0:\n",
        "       value = GainVsTheta[360]\n",
        "      elif t<=30:\n",
        "        value = GainVsTheta[30]\n",
        "      elif 30<t<=60:\n",
        "        value = GainVsTheta[60]\n",
        "      elif 60<t<=90:\n",
        "        value = GainVsTheta[90]\n",
        "      elif 90<t<=120:\n",
        "        value = GainVsTheta[120]\n",
        "      elif 120<t<=150:\n",
        "        value = GainVsTheta[150]\n",
        "      elif 150<t<=180:\n",
        "        value = GainVsTheta[180]\n",
        "      elif 180<t<=210:\n",
        "        value = GainVsTheta[210]\n",
        "      elif 210<t<=240:\n",
        "        value = GainVsTheta[240]\n",
        "      elif 240<t<=270:\n",
        "        value = GainVsTheta[270]\n",
        "      elif 270<t<=300:\n",
        "        value = GainVsTheta[300]\n",
        "      elif 300<t<=330:\n",
        "        value = GainVsTheta[330]\n",
        "      elif 330<t<=360:\n",
        "        value = GainVsTheta[360]\n",
        "      Gain.append(value-Path_Loss[i])\n",
        "  Magnitude=[]\n",
        "  for g in Gain:\n",
        "    mag=pow(10,(g/10))\n",
        "    Magnitude.append(mag)\n",
        "  return Magnitude\n",
        "#measureSNR(ant,SIZE_H,SIZE_W,type=\"omnidirectionnel\")\n"
      ],
      "execution_count": 9,
      "outputs": []
    },
    {
      "cell_type": "code",
      "metadata": {
        "id": "AK9PzO2BLC2M",
        "colab": {
          "base_uri": "https://localhost:8080/"
        },
        "outputId": "c8c548be-13de-4acf-e589-697da4519ea6"
      },
      "source": [
        "def calSNRlow(SNR):\n",
        "  counter =0\n",
        "  for i in range(len(SNR)):\n",
        "    if int(SNR[i]) < snr_range[\"deadzone\"]:\n",
        "      counter+=1\n",
        "      percent=counter*100/len(SNR)\n",
        "    #return percent\n",
        "  return np.mean(SNR)\n",
        "calSNRlow(measureSNR (ant,SIZE_H,SIZE_W))"
      ],
      "execution_count": 10,
      "outputs": [
        {
          "output_type": "execute_result",
          "data": {
            "text/plain": [
              "1.4123880497879323e-07"
            ]
          },
          "metadata": {
            "tags": []
          },
          "execution_count": 10
        }
      ]
    },
    {
      "cell_type": "code",
      "metadata": {
        "id": "8uAbylNf0gBR"
      },
      "source": [
        "def RewardCalc(antennas_object,ANTENNA_N):\n",
        "  antennas_meanSNR={} # antenna and their mean values\n",
        "  #antennas_object={} # antenna and their classes\n",
        "  reward=0\n",
        "  for i in range(ANTENNA_N):\n",
        "    #antennas_object[i]=antenna()\n",
        "    antennas_meanSNR[i]=np.mean(measureSNR(antennas_object[i],SIZE_H,SIZE_W,type=\"omnidirectionnel\"))\n",
        "  #print(antennas_object)\n",
        "  #print(antennas)\n",
        "    reward+=antennas_meanSNR[i]\n",
        "  return reward\n",
        "#RewardCalc(antennas_object,ANTENNA_N)"
      ],
      "execution_count": 11,
      "outputs": []
    },
    {
      "cell_type": "code",
      "metadata": {
        "id": "l2qcdm6uLIBt",
        "colab": {
          "base_uri": "https://localhost:8080/"
        },
        "outputId": "d01674cb-06e0-4b67-aac6-36b2dc8fced6"
      },
      "source": [
        "## actions\n",
        "actions={}\n",
        "## antennas object\n",
        "antennas_object={} # antenna and their classes\n",
        "##\n",
        "episode_rewards = []\n",
        "reward=0\n",
        "for episode in range(HM_EPISODES):\n",
        "    for i in range(ANTENNA_N):\n",
        "      antennas_object[i]=antenna()\n",
        "    if episode % SHOW_EVERY == 0:\n",
        "        print(f\"on #{episode}\")\n",
        "       # print(f\"{SHOW_EVERY} ep mean: {np.mean(episode_rewards[-SHOW_EVERY:])}\")\n",
        "        show = True\n",
        "    else:\n",
        "        show = False\n",
        "\n",
        "    episode_reward = 0\n",
        "    state=0\n",
        "    for i in range(200):\n",
        "        antennaPos = (ant) # Current Antenna X, Y Co-ord.\n",
        "\n",
        "        if np.random.random() > epsilon:\n",
        "            # GET THE ACTION\n",
        "#             if state <=25:\n",
        "#                 state=0\n",
        "#             else:\n",
        "#                 state+=1\n",
        "            for i in range(ANTENNA_N):\n",
        "              actions[i] = np.argmax(q_table[i][antennas_object[i].x][antennas_object[i].y]) # antenna 1\n",
        "        else:\n",
        "            for i in range(ANTENNA_N):\n",
        "              actions[i] = np.random.randint(0, 4) #low is inclusive high is exclusive\n",
        "            #print(action)\n",
        "        # Take the action!\n",
        "        for i in range(ANTENNA_N):\n",
        "          antennas_object[i].action(actions[i]) #move the  antenna\n",
        "        ###\n",
        "        #calculate the SNR\n",
        "        reward=RewardCalc(antennas_object,ANTENNA_N) \n",
        "          ###\n",
        "        #current_q = q_table[state][action]\n",
        "        #antena 1\n",
        "        for i in range(ANTENNA_N):\n",
        "          newAntennaPos = (ant)\n",
        "          current_q = q_table[i][antennas_object[i].x][antennas_object[i].y][actions[i]] # Current State\n",
        "          max_future_q = np.max(q_table[i][antennas_object[i].x][antennas_object[i].y]) # Max State\n",
        "          new_q = (1 - LEARNING_RATE) * current_q + LEARNING_RATE * (reward + DISCOUNT * max_future_q)\n",
        "          q_table[i][antennas_object[i].x][antennas_object[i].y][actions[i]] = new_q\n",
        "\n",
        "\n",
        "        episode_reward += reward\n",
        "\n",
        "        #print(episode_reward)\n",
        "    episode_rewards.append(episode_reward)\n",
        "    epsilon *= EPS_DECAY "
      ],
      "execution_count": 23,
      "outputs": [
        {
          "output_type": "stream",
          "text": [
            "on #0\n",
            "on #100\n",
            "on #200\n",
            "on #300\n",
            "on #400\n",
            "on #500\n",
            "on #600\n",
            "on #700\n",
            "on #800\n",
            "on #900\n",
            "on #1000\n",
            "on #1100\n",
            "on #1200\n",
            "on #1300\n",
            "on #1400\n",
            "on #1500\n",
            "on #1600\n",
            "on #1700\n",
            "on #1800\n",
            "on #1900\n",
            "on #2000\n",
            "on #2100\n",
            "on #2200\n",
            "on #2300\n",
            "on #2400\n"
          ],
          "name": "stdout"
        }
      ]
    },
    {
      "cell_type": "code",
      "metadata": {
        "id": "XfPPRs2XWzYj",
        "colab": {
          "base_uri": "https://localhost:8080/",
          "height": 269
        },
        "outputId": "1cdb2224-5a83-4e8f-a471-ab518ba6bc5f"
      },
      "source": [
        "xval_={}\n",
        "yval_={}\n",
        "for n in range(ANTENNA_N):\n",
        "  max_value =np.max((q_table[n]))\n",
        "#print(max_value)\n",
        "  for i in range(SIZE_H):\n",
        "    for j in range(SIZE_W):\n",
        "      for k in range(4):\n",
        "        if max_value == (q_table[n][i][j][k]):\n",
        "          xval_[n]=[i]\n",
        "          yval_[n]=[j]\n",
        "        else :\n",
        "          continue\n",
        "#outputOfTraining(q_table)\n",
        "for n in range(ANTENNA_N):\n",
        "  plt.scatter(xval_[n], yval_[n], color= \"blue\", linewidths =2 ,marker =\"s\")\n",
        "plt.xlim(0, SIZE_H-1)\n",
        "plt.ylim(0, SIZE_W-1)\n",
        "plt.show()\n",
        "\n"
      ],
      "execution_count": 24,
      "outputs": [
        {
          "output_type": "display_data",
          "data": {
            "image/png": "[encoded data removed]",
            "text/plain": [
              "<Figure size 432x288 with 1 Axes>"
            ]
          },
          "metadata": {
            "tags": [],
            "needs_background": "light"
          }
        }
      ]
    },
    {
      "cell_type": "code",
      "metadata": {
        "id": "rgbHwZnYWNl1"
      },
      "source": [
        "ANTENNA_N = int(input(\"please enter the number of antennas ?\"))  # NUMBER OF ANTENNAS \n",
        "#width and height are points not continuous example 5,5\n",
        "antennas_info_sizes={}\n",
        "## splitting areas\n",
        "for i in range(ANTENNA_N):\n",
        "  print(\"attempt number\",i)\n",
        "  #SIZE_H=int(input(\"engez yallaaaa (height)!!!??\"))\n",
        "  SIZE_H=int(input(\"please enter the max height ?\"))\n",
        "  SIZE_W=int(input(\"please enter the max width?\"))\n",
        "  antennas_info_sizes[i+1]=[SIZE_H,SIZE_W]\n",
        "print(antennas_info_sizes)\n",
        "#training\n",
        "print(xval,yval)"
      ],
      "execution_count": null,
      "outputs": []
    },
    {
      "cell_type": "markdown",
      "metadata": {
        "id": "xp3xUZCTFz_K"
      },
      "source": [
        "assume that power adds up (SNR) -> reward \n",
        "qtable -> add the positions of new antenna and actions \n",
        "3 antennas optimization all area \n"
      ]
    },
    {
      "cell_type": "code",
      "metadata": {
        "id": "ioNcIRd6AB4R"
      },
      "source": [
        "#looping on the area \n",
        "AntTest=antenna()\n",
        "EveryWhere={}\n",
        "max=-200\n",
        "#Move antenna Every where \n",
        "for i in range(SIZE_H):\n",
        "  for j in range(SIZE_W):\n",
        "    AntTest.x =i\n",
        "    AntTest.y = j\n",
        "    AvgSnr=calSNRlow(measureSNR(AntTest,SIZE_H,SIZE_W,type=\"omnidirectionnel\"))\n",
        "    if AvgSnr>max:\n",
        "      max=AvgSnr\n",
        "    list_=[AntTest.x,AntTest.y,AvgSnr]\n",
        "    EveryWhere[AvgSnr]=[AntTest.x,AntTest.y]\n",
        "print(max,EveryWhere[max])\n",
        "print(EveryWhere)\n",
        "## x,y,meanSNR   "
      ],
      "execution_count": null,
      "outputs": []
    }
  ]
}